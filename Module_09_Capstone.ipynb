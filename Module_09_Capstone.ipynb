{
 "cells": [
  {
   "cell_type": "markdown",
   "id": "8915b8a5-3605-43fc-afa7-95b947e75d2e",
   "metadata": {},
   "source": [
    "# Module 9: Capstone Data Analysis Project - Titanic Survival Analysis\n"
   ]
  },
  {
   "cell_type": "markdown",
   "id": "c7d829a1-5a1f-4be2-a022-77024125fffa",
   "metadata": {},
   "source": [
    "## 1. Identifying a Real-World Data Problem\n"
   ]
  },
  {
   "cell_type": "markdown",
   "id": "069046c7-740b-432d-b04f-2b2cfcb7a217",
   "metadata": {},
   "source": [
    "The sinking of the Titanic is one of the most infamous shipwrecks in history. In this project, we aim to analyze the factors that might have influenced the survival of the passengers. Questions we might ask include: \n",
    "- Were certain passenger classes more likely to survive?\n",
    "- Did age or gender play a role in survival rates?\n",
    "- How did the fare paid influence survival?\n",
    "\n",
    "By answering these questions, we hope to gain insights into the tragedy and understand the various dynamics at play.\n"
   ]
  },
  {
   "cell_type": "markdown",
   "id": "c2928445-c92b-4fbe-babc-94bc58cedb61",
   "metadata": {},
   "source": [
    "## 2. Data Collection and Cleaning\n"
   ]
  },
  {
   "cell_type": "markdown",
   "id": "d040c4d0-6766-469b-8800-911e0be5cd1c",
   "metadata": {},
   "source": [
    "The Titanic dataset is publicly available and has been used extensively in the data science community. We'll start by loading this dataset and then proceed to clean and preprocess it to ensure its quality and relevance for our analysis.\n"
   ]
  },
  {
   "cell_type": "code",
   "execution_count": null,
   "id": "6fc3f18a-8150-4876-932b-904c146595ff",
   "metadata": {
    "tags": []
   },
   "outputs": [],
   "source": [
    "import pandas as pd\n",
    "\n",
    "# Load the Titanic dataset\n",
    "df = pd.read_csv('https://web.stanford.edu/class/archive/cs/cs109/cs109.1166/stuff/titanic.csv')\n",
    "\n",
    "# Display the first few rows of the dataset to understand its structure\n",
    "print(\"\\nOriginal df.head()\")\n",
    "df.head()"
   ]
  },
  {
   "cell_type": "code",
   "execution_count": null,
   "id": "70b7a210-e884-44e7-9730-8718387fb4c7",
   "metadata": {
    "tags": []
   },
   "outputs": [],
   "source": [
    "# Display the dataset's basic information (data types, non-null counts, etc.)\n",
    "print(\"\\nBasic Information:\")\n",
    "df.info()\n",
    "\n",
    "# Check for missing values\n",
    "missing_values = df.isnull().sum()\n",
    "print(\"Missing values for each column:\")\n",
    "print(missing_values)\n",
    "\n",
    "# For the 'Age' column, we can fill missing values with the median age\n",
    "if 'Age' in df.columns and df['Age'].isnull().sum() > 0:\n",
    "    median_age = df['Age'].median()\n",
    "    df['Age'].fillna(median_age, inplace=True)\n",
    "\n",
    "# For categorical columns like 'Sex', if there are missing values, we can fill with the mode (most frequent value)\n",
    "if 'Sex' in df.columns and df['Sex'].isnull().sum() > 0:\n",
    "    mode_sex = df['Sex'].mode()[0]\n",
    "    df['Sex'].fillna(mode_sex, inplace=True)\n",
    "\n",
    "# Check for duplicates and remove them\n",
    "if df.duplicated().sum() > 0:\n",
    "    df.drop_duplicates(inplace=True)\n",
    "    print(\"Duplicates removed!\")\n",
    "\n",
    "# Explore basic statistics of the dataset\n",
    "df.describe()\n",
    "\n",
    "# Check for outliers in 'Fare' using the IQR method\n",
    "Q1 = df['Fare'].quantile(0.25)\n",
    "Q3 = df['Fare'].quantile(0.75)\n",
    "IQR = Q3 - Q1\n",
    "fare_outliers = df[(df['Fare'] < (Q1 - 1.5 * IQR)) | (df['Fare'] > (Q3 + 1.5 * IQR))]\n",
    "print(\"Number of outliers in 'Fare':\", len(fare_outliers))\n",
    "\n",
    "# Handle outliers if necessary, for example:\n",
    "# df = df[(df['Fare'] >= (Q1 - 1.5 * IQR)) & (df['Fare'] <= (Q3 + 1.5 * IQR))]\n",
    "\n",
    "# Convert categorical columns to numerical if needed for modeling; aka, 'label encoding'\n",
    "# For example, converting 'Sex' to numerical values: 0 for 'male' and 1 for 'female'\n",
    "# df['Sex'] = df['Sex'].map({'male': 0, 'female': 1})\n",
    "\n",
    "# Display the cleaned dataset\n",
    "print(\"\\nFinal df.head()\")\n",
    "df.head()"
   ]
  },
  {
   "cell_type": "markdown",
   "id": "74ed9af4-12cd-483b-a372-4c0e01e9606e",
   "metadata": {},
   "source": [
    "## 3. In-Depth Exploratory Data Analysis\n"
   ]
  },
  {
   "cell_type": "markdown",
   "id": "932cff19-b53d-40f6-b79a-1e22b7cb5a91",
   "metadata": {},
   "source": [
    "With the cleaned data in hand, we'll now delve deep into exploratory data analysis (EDA) to uncover patterns, trends, and insights. EDA is a crucial step to understand the data's underlying structure and characteristics. We'll start by looking at some summary statistics and then dive deeper into each variable.\n"
   ]
  },
  {
   "cell_type": "code",
   "execution_count": null,
   "id": "02a93fef-bc31-4d77-ba66-99a7085038e3",
   "metadata": {
    "tags": []
   },
   "outputs": [],
   "source": [
    "import matplotlib.pyplot as plt\n",
    "import seaborn as sns"
   ]
  },
  {
   "cell_type": "code",
   "execution_count": null,
   "id": "d023a066-3440-4c51-891f-b62241913f98",
   "metadata": {
    "tags": []
   },
   "outputs": [],
   "source": [
    "# Summary statistics\n",
    "df.describe()"
   ]
  },
  {
   "cell_type": "code",
   "execution_count": null,
   "id": "1f2ff336-df17-48cf-bc7c-0fb66987b9c8",
   "metadata": {
    "tags": []
   },
   "outputs": [],
   "source": [
    "# Exploring the distribution of passenger ages\n",
    "plt.hist(df['Age'].dropna(), bins=30)\n",
    "plt.title('Distribution of Passenger Ages')\n",
    "plt.xlabel('Age')\n",
    "plt.ylabel('Number of Passengers')\n",
    "plt.show()"
   ]
  },
  {
   "cell_type": "code",
   "execution_count": null,
   "id": "52a28afc-4432-40c6-90f3-9dd143bbab37",
   "metadata": {
    "tags": []
   },
   "outputs": [],
   "source": [
    "# Visualizing the distribution of passenger classes\n",
    "sns.countplot(x='Pclass', data=df)\n",
    "plt.title('Distribution of Passenger Classes')\n",
    "plt.xlabel('Passenger Class')\n",
    "plt.ylabel('Number of Passengers')\n",
    "plt.show()"
   ]
  },
  {
   "cell_type": "code",
   "execution_count": null,
   "id": "9c53e7f5-ea13-484c-bf38-177d033d8ccb",
   "metadata": {
    "tags": []
   },
   "outputs": [],
   "source": [
    "# Visualizing the distribution of genders\n",
    "sns.countplot(x='Sex', data=df)\n",
    "plt.title('Distribution of Genders')\n",
    "plt.xlabel('Gender')\n",
    "plt.ylabel('Number of Passengers')\n",
    "plt.show()"
   ]
  },
  {
   "cell_type": "code",
   "execution_count": null,
   "id": "8056d415-d6be-4ff3-a669-5ec71b559201",
   "metadata": {
    "tags": []
   },
   "outputs": [],
   "source": [
    "# Box plot of ages by survival status\n",
    "sns.boxplot(x='Survived', y='Age', data=df)\n",
    "plt.title('Age Distribution by Survival Status')\n",
    "plt.xlabel('Survived')\n",
    "plt.ylabel('Age')\n",
    "plt.show()"
   ]
  },
  {
   "cell_type": "code",
   "execution_count": null,
   "id": "fb554747-8e33-49d8-be02-6f7b72fc8526",
   "metadata": {
    "tags": []
   },
   "outputs": [],
   "source": [
    "# Box plot of fares by survival status\n",
    "sns.boxplot(x='Survived', y='Fare', data=df)\n",
    "plt.title('Fare Distribution by Survival Status')\n",
    "plt.xlabel('Survived')\n",
    "plt.ylabel('Fare')\n",
    "plt.ylim(0, 150)  # Limiting y-axis to better visualize the majority of data points\n",
    "plt.show()"
   ]
  },
  {
   "cell_type": "code",
   "execution_count": null,
   "id": "9989a48c-46a1-4826-9ff5-ba4aa5eb5963",
   "metadata": {
    "tags": []
   },
   "outputs": [],
   "source": [
    "# Visualizing the distribution of number of siblings/spouses aboard\n",
    "sns.countplot(x='Siblings/Spouses Aboard', data=df)\n",
    "plt.title('Distribution of Number of Siblings/Spouses Aboard')\n",
    "plt.xlabel('Number of Siblings/Spouses')\n",
    "plt.ylabel('Number of Passengers')\n",
    "plt.show()"
   ]
  },
  {
   "cell_type": "code",
   "execution_count": null,
   "id": "05f2558d-07ea-4e71-aa40-87cce49457cd",
   "metadata": {
    "tags": []
   },
   "outputs": [],
   "source": [
    "# Visualizing the distribution of number of parents/children aboard\n",
    "sns.countplot(x='Parents/Children Aboard', data=df)\n",
    "plt.title('Distribution of Number of Parents/Children Aboard')\n",
    "plt.xlabel('Number of Parents/Children')\n",
    "plt.ylabel('Number of Passengers')\n",
    "plt.show()"
   ]
  },
  {
   "cell_type": "code",
   "execution_count": null,
   "id": "8a158fd6-9f2c-4677-b563-3d814700853b",
   "metadata": {
    "tags": []
   },
   "outputs": [],
   "source": [
    "# Scatter plot of age vs. fare\n",
    "sns.scatterplot(x='Age', y='Fare', hue='Survived', data=df)\n",
    "plt.title('Scatter Plot of Age vs. Fare')\n",
    "plt.xlabel('Age')\n",
    "plt.ylabel('Fare')\n",
    "plt.show()"
   ]
  },
  {
   "cell_type": "markdown",
   "id": "4027001b-9569-4522-9c96-b55f3d186d46",
   "metadata": {},
   "source": [
    "## 4. Creating Comprehensive Data Visualizations\n"
   ]
  },
  {
   "cell_type": "markdown",
   "id": "5b4dc306-a8ac-40a8-b1f7-55fab30ac9cc",
   "metadata": {},
   "source": [
    "Visualizations play a crucial role in understanding the data and conveying insights. In this section, we'll create various visualizations to better understand the relationships between different variables and survival rates on the Titanic.\n"
   ]
  },
  {
   "cell_type": "code",
   "execution_count": null,
   "id": "7d108bca-0b2d-40dd-b077-9941d2f460c9",
   "metadata": {
    "tags": []
   },
   "outputs": [],
   "source": [
    "import seaborn as sns\n",
    "import matplotlib.pyplot as plt"
   ]
  },
  {
   "cell_type": "code",
   "execution_count": null,
   "id": "8c7d1d1d-d584-4b4d-ad1e-304b9c8cbbc5",
   "metadata": {
    "tags": []
   },
   "outputs": [],
   "source": [
    "df.groupby(['Pclass', 'Survived']).size().unstack()"
   ]
  },
  {
   "cell_type": "code",
   "execution_count": null,
   "id": "f0a9592b-9a9a-491d-a021-b4420b277058",
   "metadata": {
    "tags": []
   },
   "outputs": [],
   "source": [
    "df['Pclass'].value_counts()"
   ]
  },
  {
   "cell_type": "code",
   "execution_count": null,
   "id": "2453693e-f1f3-45e7-9feb-26eb9d9598b9",
   "metadata": {
    "tags": []
   },
   "outputs": [],
   "source": [
    "df['Pclass'].value_counts().sort_index()"
   ]
  },
  {
   "cell_type": "code",
   "execution_count": null,
   "id": "72973fbd-d72d-4df9-9e02-85f7db1ec255",
   "metadata": {
    "tags": []
   },
   "outputs": [],
   "source": [
    "# Calculate the total number of passengers in each passenger class\n",
    "total_passengers_by_class = df['Pclass'].value_counts().sort_index()\n",
    "\n",
    "# Calculate the percentage of passengers who survived and did not survive in each class\n",
    "survival_percentage_by_class = df.groupby(['Pclass', 'Survived']).size().unstack()\n",
    "survival_percentage_by_class_percentage = survival_percentage_by_class.div(total_passengers_by_class, axis=0) * 100\n",
    "\n",
    "survival_percentage_by_class_percentage"
   ]
  },
  {
   "cell_type": "code",
   "execution_count": null,
   "id": "9c5810f3-d3ba-47c5-9f00-7988ea859808",
   "metadata": {
    "tags": []
   },
   "outputs": [],
   "source": [
    "# Calculate the total number of passengers in each passenger class\n",
    "total_passengers_by_class = df['Pclass'].value_counts().sort_index()\n",
    "\n",
    "# Calculate the percentage of passengers who survived and did not survive in each class\n",
    "survival_percentage_by_class = df.groupby(['Pclass', 'Survived']).size().unstack()\n",
    "survival_percentage_by_class_percentage = survival_percentage_by_class.div(total_passengers_by_class, axis=0) * 100\n",
    "\n",
    "# Create a grouped bar plot to visualize the survival percentages by passenger class\n",
    "ax = survival_percentage_by_class_percentage.plot(kind='bar', stacked=True, figsize=(8, 6))\n",
    "plt.title('Survival Percentage by Passenger Class')\n",
    "plt.xlabel('Passenger Class')\n",
    "plt.ylabel('Percentage')\n",
    "plt.xticks(rotation=0)\n",
    "plt.legend(title='Survived', labels=['Not Survived', 'Survived'])\n",
    "\n",
    "# Add labels for each bar segment\n",
    "for p in ax.patches:\n",
    "    width, height = p.get_width(), p.get_height()\n",
    "    x, y = p.get_xy() \n",
    "    ax.annotate(f'{height:.2f}%', (x + width/2, y + height/2), ha='center', va='center')\n",
    "\n",
    "plt.show()"
   ]
  },
  {
   "cell_type": "code",
   "execution_count": null,
   "id": "8d3cfe08-58cd-486f-9347-7128c405b6b6",
   "metadata": {
    "tags": []
   },
   "outputs": [],
   "source": [
    "# Calculate survival proportions by gender\n",
    "gender_survival = df.groupby(['Sex', 'Survived']).size().unstack()\n",
    "gender_survival_percentage = gender_survival.div(gender_survival.sum(axis=1), axis=0) * 100\n",
    "\n",
    "# Plot a stacked bar chart\n",
    "ax = gender_survival_percentage.plot(kind='bar', stacked=True, figsize=(8, 6))\n",
    "\n",
    "# Add labels and title\n",
    "plt.xlabel('Gender')\n",
    "plt.ylabel('Percentage')\n",
    "plt.title('Survival Proportions by Gender')\n",
    "plt.xticks(rotation=0)\n",
    "\n",
    "# Annotate the bars with percentage values\n",
    "for p in ax.patches:\n",
    "    width, height = p.get_width(), p.get_height()\n",
    "    x, y = p.get_xy() \n",
    "    ax.annotate(f'{height:.2f}%', (x + width/2, y + height/2), ha='center', va='center')\n",
    "\n",
    "# Show the plot\n",
    "plt.show()"
   ]
  },
  {
   "cell_type": "code",
   "execution_count": null,
   "id": "8140e91a-e230-4ee3-849b-e13bc1cd85f2",
   "metadata": {
    "tags": []
   },
   "outputs": [],
   "source": [
    "import numpy as np\n",
    "\n",
    "# Define age bins\n",
    "age_bins = np.arange(0, 81, 10)\n",
    "\n",
    "# Create a new column 'AgeGroup' to represent the age groups\n",
    "df['AgeGroup'] = pd.cut(df['Age'], bins=age_bins, right=False, labels=[f'{start}-{start+9}' for start in age_bins[:-1]])\n",
    "\n",
    "# Calculate survival proportions by age group\n",
    "age_survival = df.groupby(['AgeGroup', 'Survived']).size().unstack()\n",
    "age_survival_percentage = age_survival.div(age_survival.sum(axis=1), axis=0) * 100\n",
    "\n",
    "# Plot a stacked bar chart\n",
    "ax = age_survival_percentage.plot(kind='bar', stacked=True, figsize=(10, 6))\n",
    "\n",
    "# Add labels and title\n",
    "plt.xlabel('Age Group')\n",
    "plt.ylabel('Percentage')\n",
    "plt.title('Survival Proportions by Age Group (10-Year Intervals)')\n",
    "\n",
    "# Annotate the bars with percentage values\n",
    "for p in ax.patches:\n",
    "    width, height = p.get_width(), p.get_height()\n",
    "    x, y = p.get_xy() \n",
    "    ax.annotate(f'{height:.2f}%', (x + width/2, y + height/2), ha='center', va='center')\n",
    "\n",
    "# Manually set x-axis tick labels\n",
    "plt.xticks(range(len(age_survival_percentage.index)), age_survival_percentage.index)\n",
    "\n",
    "# Show the plot\n",
    "plt.xticks(rotation=45)  # Rotate x-axis labels for better visibility\n",
    "plt.show()"
   ]
  },
  {
   "cell_type": "code",
   "execution_count": null,
   "id": "1b83b91e-45a9-45e2-a995-2ba3f93f3d12",
   "metadata": {
    "tags": []
   },
   "outputs": [],
   "source": [
    "# Calculate survival proportions by the number of siblings/spouses aboard\n",
    "sibling_survival = df.groupby(['Siblings/Spouses Aboard', 'Survived']).size().unstack()\n",
    "sibling_survival_percentage = sibling_survival.div(sibling_survival.sum(axis=1), axis=0) * 100\n",
    "\n",
    "# Create a figure with two subplots (side by side)\n",
    "fig, (ax1, ax2) = plt.subplots(1, 2, figsize=(15, 6))\n",
    "\n",
    "# Plot the stacked bar chart on the left subplot\n",
    "ax1 = sibling_survival_percentage.plot(kind='bar', stacked=True, ax=ax1)\n",
    "ax1.set_xlabel('Number of Siblings/Spouses Aboard')\n",
    "ax1.set_ylabel('Percentage')\n",
    "ax1.set_title('Survival Proportions by Number of Siblings/Spouses Aboard')\n",
    "\n",
    "# Annotate the bars with percentage values\n",
    "for p in ax1.patches:\n",
    "    width, height = p.get_width(), p.get_height()\n",
    "    x, y = p.get_xy() \n",
    "    ax1.annotate(f'{height:.2f}%', (x + width/2, y + height/2), ha='center', va='center')\n",
    "\n",
    "# Plot a basic bar chart on the right subplot to show frequency\n",
    "sibling_frequency = df['Siblings/Spouses Aboard'].value_counts().sort_index()\n",
    "ax2 = sibling_frequency.plot(kind='bar', ax=ax2)\n",
    "ax2.set_xlabel('Number of Siblings/Spouses Aboard')\n",
    "ax2.set_ylabel('Frequency')\n",
    "ax2.set_title('Frequency by Number of Siblings/Spouses Aboard')\n",
    "\n",
    "# Rotate x-axis labels for better visibility\n",
    "ax2.tick_params(axis='x', rotation=45)\n",
    "\n",
    "# Show the combined plot\n",
    "plt.tight_layout()\n",
    "plt.show()"
   ]
  },
  {
   "cell_type": "code",
   "execution_count": null,
   "id": "8d58b23f-a769-4e2e-b6fe-f518134afb4f",
   "metadata": {
    "tags": []
   },
   "outputs": [],
   "source": [
    "# Calculate survival percentages by grouping the data\n",
    "survival_percentage_by_parch = df.groupby(['Parents/Children Aboard', 'Survived']).size().unstack()\n",
    "total_passengers_by_parch = df['Parents/Children Aboard'].value_counts().sort_index()\n",
    "\n",
    "# Calculate the survival percentage relative to the total passengers in each category\n",
    "survival_percentage_by_parch_percentage = survival_percentage_by_parch.div(total_passengers_by_parch, axis=0) * 100\n",
    "\n",
    "# Create a figure with two subplots (side by side)\n",
    "fig, (ax1, ax2) = plt.subplots(1, 2, figsize=(15, 6))\n",
    "\n",
    "# Plot the stacked bar chart on the left subplot\n",
    "ax1 = survival_percentage_by_parch_percentage.plot(kind='bar', stacked=True, ax=ax1)\n",
    "ax1.set_title('Survival Rates by Number of Parents/Children Aboard')\n",
    "ax1.set_xlabel('Number of Parents/Children Aboard')\n",
    "ax1.set_ylabel('Percentage (%)')\n",
    "ax1.legend(title='Survived', labels=['Not Survived', 'Survived'], loc='upper right')\n",
    "\n",
    "# Annotate the bars with percentages\n",
    "for p in ax1.patches:\n",
    "    width, height = p.get_width(), p.get_height()\n",
    "    x, y = p.get_xy() \n",
    "    ax1.annotate(f'{height:.2f}%', (x + width/2, y + height/2), ha='center', va='center')\n",
    "\n",
    "# Plot a basic bar chart on the right subplot to show frequency\n",
    "ax2 = total_passengers_by_parch.plot(kind='bar', ax=ax2)\n",
    "ax2.set_title('Frequency by Number of Parents/Children Aboard')\n",
    "ax2.set_xlabel('Number of Parents/Children Aboard')\n",
    "ax2.set_ylabel('Frequency')\n",
    "\n",
    "# Rotate x-axis labels for better visibility\n",
    "ax2.tick_params(axis='x', rotation=45)\n",
    "\n",
    "# Show the combined plot\n",
    "plt.tight_layout()\n",
    "plt.show()"
   ]
  },
  {
   "cell_type": "markdown",
   "id": "5937adb0-1430-4e19-9336-2874054f42df",
   "metadata": {},
   "source": [
    "## 5. Drawing Data-Driven Insights\n"
   ]
  },
  {
   "cell_type": "markdown",
   "id": "aa7c5eba-fe79-46eb-a1f9-35b17539ac6a",
   "metadata": {},
   "source": [
    "After thorough analysis and visualization, we can draw several insights from the data. These insights will help us understand the factors that influenced the survival rates on the Titanic.\n"
   ]
  },
  {
   "cell_type": "markdown",
   "id": "baaa7ae3-4567-4bcf-a92e-54700f69fabe",
   "metadata": {
    "tags": []
   },
   "source": [
    "- **Insight 1:** First-class passengers had a higher survival rate compared to other classes.\n",
    "- **Insight 2:** Women and children had a significantly higher survival rate than men, indicating a \"women and children first\" evacuation policy.\n",
    "- **Insight 3:** Most passengers aboard the Titanic were in their late teens to early thirties, representing a young demographic of travelers.\n",
    "- **Insight 4:** Passengers traveling with family (either siblings, spouses, parents, or children) had a higher survival rate than those traveling alone.\n",
    "- **Insight 5:** Higher fare-paying passengers had a better survival rate, possibly correlating with passenger class and cabin location.\n"
   ]
  },
  {
   "cell_type": "markdown",
   "id": "e5ec5318-368f-48a6-a210-832032e5cbb8",
   "metadata": {},
   "source": [
    "To conclude our analysis, it's essential to effectively communicate our findings. This can be done through a detailed report, a presentation deck, or even an interactive dashboard. Remember, the key to a successful analysis is not just finding insights but also conveying them in a manner that's easily understandable by both technical and non-technical audiences.\n"
   ]
  }
 ],
 "metadata": {
  "kernelspec": {
   "display_name": "Python 3 (ipykernel)",
   "language": "python",
   "name": "python3"
  },
  "language_info": {
   "codemirror_mode": {
    "name": "ipython",
    "version": 3
   },
   "file_extension": ".py",
   "mimetype": "text/x-python",
   "name": "python",
   "nbconvert_exporter": "python",
   "pygments_lexer": "ipython3",
   "version": "3.11.5"
  }
 },
 "nbformat": 4,
 "nbformat_minor": 5
}
