{
 "cells": [
  {
   "cell_type": "markdown",
   "id": "ed9b1902-41ec-437d-a124-58e81357767a",
   "metadata": {},
   "source": [
    "# Module 4: Data Visualization with Matplotlib and Seaborn\n"
   ]
  },
  {
   "cell_type": "markdown",
   "id": "f2bc230f-ff77-4da5-a49e-ce43dab3aba6",
   "metadata": {},
   "source": [
    "## Introduction to Data Visualization\n",
    "\n",
    "Data visualization is a critical tool for data analysis because it allows us to quickly understand trends, patterns, and outliers within our data. It bridges the gap between complex data structures and human intuition by representing data in a visual context.\n"
   ]
  },
  {
   "cell_type": "code",
   "execution_count": null,
   "id": "a2f41cb6-5fcb-4e86-9b79-6bd2a5f763de",
   "metadata": {
    "tags": []
   },
   "outputs": [],
   "source": [
    "# Importing required libraries\n",
    "import numpy as np\n",
    "import matplotlib.pyplot as plt\n",
    "import seaborn as sns"
   ]
  },
  {
   "cell_type": "markdown",
   "id": "8909b869-9c55-4bfd-a9fd-16faef6f07f5",
   "metadata": {
    "tags": []
   },
   "source": [
    "## Creating Basic Plots with Matplotlib\n",
    "\n",
    "Matplotlib is a low-level library for creating static, animated, and interactive visualizations in Python. Let's begin with some basic plots."
   ]
  },
  {
   "cell_type": "markdown",
   "id": "d2c3ba53-3f13-4e5a-9d5f-1c633db91edf",
   "metadata": {},
   "source": [
    "### Line Plot\n",
    "\n",
    "**Overview**\n",
    "\n",
    "In this example, we create a simple plot of sine and cosine waves using Matplotlib and explain various components of the code, such as plotting, labeling, legends, and more.\n",
    "\n",
    "**Creating the Plot**\n",
    "\n",
    "We start by generating data points for the x-axis using `np.linspace(0, 10, 100)`. This function creates an array of 100 evenly spaced values between 0 and 10. These values represent the x-coordinates for our plot.\n",
    "\n",
    "**Sine and Cosine Waves**\n",
    "\n",
    "Next, we compute the corresponding y-coordinates for the sine and cosine waves. We use NumPy's `np.sin(x)` and `np.cos(x)` functions, where `x` is the array of x-coordinates generated earlier. These trigonometric functions compute the sine and cosine values for each x-coordinate.\n",
    "\n",
    "**Plotting the Waves**\n",
    "\n",
    "We use `plt.plot(x, y)` to create the plot. Here, `x` represents the x-coordinates, and `y` represents the y-coordinates of the waves. This function draws the sine and cosine waves on the same graph.\n",
    "\n",
    "**Adding Labels**\n",
    "\n",
    "We set the title, x-label, and y-labels of the plot using `plt.title()`, `plt.xlabel()`, and `plt.ylabel()`, respectively. This helps provide context and clarity to the plot.\n",
    "\n",
    "**Adding a Legend**\n",
    "\n",
    "To distinguish between the sine and cosine waves, we add a legend to the plot using `plt.legend()`. Legends help viewers understand the different components of the graph.\n",
    "\n",
    "**Displaying the Plot**\n",
    "\n",
    "Finally, we use `plt.show()` to display the plot on the screen. This function is essential for rendering the plot and showing it to the user.\n",
    "\n",
    "**Labels and Legends**\n",
    "\n",
    "- `plt.title()`: Sets the title of the plot.\n",
    "- `plt.xlabel()`: Sets the label for the x-axis.\n",
    "- `plt.ylabel()`: Sets the label for the y-axis.\n",
    "- `plt.legend()`: Adds a legend to the plot to differentiate between multiple curves."
   ]
  },
  {
   "cell_type": "code",
   "execution_count": null,
   "id": "5bd7dd1e-ae15-4a4a-adb8-745b9178df26",
   "metadata": {
    "tags": []
   },
   "outputs": [],
   "source": [
    "# Example Data\n",
    "x = np.linspace(0, 10, 100)  # 100 points from 0 to 10\n",
    "y = np.sin(x)\n",
    "z = np.cos(x)  # Additional data for comparison\n",
    "\n",
    "# Plotting the sine wave\n",
    "plt.plot(x, y, label='sin(x)')\n",
    "plt.plot(x, z, label='cos(x)')  # Adding the cosine wave for comparison\n",
    "plt.title(\"Sine and Cosine Waves\")\n",
    "plt.xlabel(\"X Axis\")\n",
    "plt.ylabel(\"Y Axis\")\n",
    "plt.legend()  # Adding a legend to differentiate the sine and cosine waves\n",
    "plt.show()\n",
    "\n",
    "# Calculating the mean of the sine wave\n",
    "mean_y = np.mean(y)\n",
    "print(\"Mean of y (sin(x)):\", mean_y)\n",
    "\n",
    "# Calculating the standard deviation of the sine wave\n",
    "std_dev_y = np.std(y)\n",
    "print(\"Standard Deviation of y (sin(x)):\", std_dev_y)"
   ]
  },
  {
   "cell_type": "markdown",
   "id": "81a27e4a-b243-4814-8434-f80cd6552504",
   "metadata": {
    "tags": []
   },
   "source": [
    "### Scatter Plot\n",
    "\n",
    "Scatter plots are a fundamental visualization tool in data science. They are used to explore relationships and patterns between two continuous variables. In a scatter plot, each data point is represented as a point on the graph, with one variable on the x-axis and another on the y-axis. Scatter plots are particularly useful for:\n",
    "\n",
    "- **Exploring Relationships:** Scatter plots help identify whether there is a correlation or relationship between two variables. For example, you can use scatter plots to see if there is a relationship between the amount of rainfall and crop yield.\n",
    "\n",
    "- **Detecting Outliers:** Outliers, or data points that deviate significantly from the rest, can be easily spotted in scatter plots. Detecting outliers is crucial for data cleaning and anomaly detection.\n",
    "\n",
    "- **Clustering Analysis:** In some cases, scatter plots can reveal natural groupings or clusters within the data. This is valuable in unsupervised machine learning tasks like clustering.\n",
    "\n",
    "- **Pattern Recognition:** Scatter plots can help identify patterns or trends in the data. For instance, they can show if there is a cyclical pattern in stock prices or consumer behavior.\n",
    "\n",
    "- **Visualizing Multivariate Data:** While a single scatter plot shows two variables, you can create scatter plot matrices to visualize relationships between multiple variables simultaneously.\n",
    "\n",
    "Scatter plots provide a quick and intuitive way to gain insights into your data and are often the starting point for more in-depth analysis in data science projects."
   ]
  },
  {
   "cell_type": "code",
   "execution_count": null,
   "id": "156ba6af-e3ab-4f0f-9d0a-d39c5651164b",
   "metadata": {
    "tags": []
   },
   "outputs": [],
   "source": [
    "import numpy as np\n",
    "import matplotlib.pyplot as plt\n",
    "\n",
    "# Generate random data for x and y coordinates\n",
    "x = np.random.rand(50)\n",
    "y = np.random.rand(50)\n",
    "\n",
    "# Create a scatter plot\n",
    "plt.scatter(x, y)\n",
    "\n",
    "# Add a title and labels\n",
    "plt.title(\"Scatter Plot Example\")\n",
    "plt.xlabel(\"X Values\")\n",
    "plt.ylabel(\"Y Values\")\n",
    "\n",
    "# Show the plot\n",
    "plt.show()"
   ]
  },
  {
   "cell_type": "markdown",
   "id": "98f52afb-b1d6-487d-95c4-b1928032501d",
   "metadata": {},
   "source": [
    "### Histogram\n",
    "\n",
    "Histograms are essential data visualization tools in data science. They display the distribution of a continuous variable by dividing it into bins or intervals and representing the frequency or count of data points falling into each bin. Histograms are particularly useful for the following purposes:\n",
    "\n",
    "- **Understanding Data Distribution:** Histograms allow you to visualize how data is distributed across different ranges. You can quickly identify whether the data follows a normal distribution, is skewed, or has multiple peaks.\n",
    "\n",
    "- **Identifying Central Tendency:** The central peak (mode) of a histogram often corresponds to the central tendency of the data. It can help you identify the mean or median value of the data.\n",
    "\n",
    "- **Detecting Outliers:** Histograms can reveal the presence of outliers or unusual values as data points that lie far from the main distribution.\n",
    "\n",
    "- **Assessing Data Spread:** The width and spread of the histogram provide insights into the variability or spread of the data. A wider histogram indicates greater data variability.\n",
    "\n",
    "- **Data Preprocessing:** Histograms can guide data preprocessing decisions, such as setting appropriate thresholds or ranges for data transformation or feature engineering.\n",
    "\n",
    "- **Feature Engineering:** In machine learning, histograms are used for feature engineering. Binning continuous variables into discrete intervals can help algorithms that work with categorical data.\n",
    "\n",
    "Histograms provide a visual summary of the data's distribution and are an essential tool for data exploration and initial analysis in data science projects.\n"
   ]
  },
  {
   "cell_type": "code",
   "execution_count": null,
   "id": "c95ab9a2-633c-45e3-807e-1b382fab12d2",
   "metadata": {
    "tags": []
   },
   "outputs": [],
   "source": [
    "import numpy as np\n",
    "import matplotlib.pyplot as plt\n",
    "\n",
    "# Generate random data for two distributions\n",
    "data_normal = np.random.randn(1000)  # Normal distribution\n",
    "data_exponential = np.random.exponential(scale=1.0, size=1000)  # Exponential distribution\n",
    "\n",
    "# Create subplots with 1 row and 2 columns\n",
    "fig, axes = plt.subplots(1,2, figsize=(12, 4))\n",
    "\n",
    "print(axes)\n",
    "\n",
    "# Plot the first histogram (normal distribution)\n",
    "axes[0].hist(data_normal, bins=30, color='skyblue', edgecolor='black')\n",
    "axes[0].set_title(\"Normal Distribution\")\n",
    "axes[0].set_xlabel(\"Data Value\")\n",
    "axes[0].set_ylabel(\"Frequency\")\n",
    "\n",
    "# Plot the second histogram (exponential distribution)\n",
    "axes[1].hist(data_exponential, bins=30, color='salmon', edgecolor='black')\n",
    "axes[1].set_title(\"Exponential Distribution\")\n",
    "axes[1].set_xlabel(\"Data Value\")\n",
    "axes[1].set_ylabel(\"Frequency\")\n",
    "\n",
    "# Adjust the layout to prevent overlapping\n",
    "plt.tight_layout()\n",
    "\n",
    "# Show the subplots\n",
    "plt.show()"
   ]
  },
  {
   "cell_type": "markdown",
   "id": "ea50ae72-d162-46d8-ac1a-9452199e29c0",
   "metadata": {},
   "source": [
    "### Bar Plot\n",
    "\n",
    "Bar plots are a common type of data visualization used in data science to represent and compare categorical data. They are particularly useful for displaying data that can be grouped into distinct categories or groups. Here's an overview of bar plots and their utility:\n",
    "\n",
    "- **Categorical Data Visualization:** Bar plots are designed for visualizing categorical data, where data points belong to specific categories or groups. Each category is represented by a bar, making it easy to see how data is distributed among categories.\n",
    "\n",
    "- **Frequency or Count Representation:** Bar plots are often used to show the frequency or count of observations within each category. This helps in understanding the distribution of data across different groups.\n",
    "\n",
    "- **Comparing Categories:** Bar plots provide an effective way to compare the values of categories. You can easily see which category has the highest or lowest value, allowing for quick comparisons and insights.\n",
    "\n",
    "- **Data Exploration:** Data scientists use bar plots during data exploration to gain initial insights into categorical variables. They can identify patterns, trends, and disparities among groups.\n",
    "\n",
    "- **Presentation:** Bar plots are also widely used for presenting findings and results to non-technical audiences. They provide a visually appealing and straightforward way to communicate information.\n",
    "\n",
    "**Key Components of a Bar Plot:**\n",
    "\n",
    "- **Categories (X-axis):** The categories or groups being compared are typically represented on the x-axis of the bar plot.\n",
    "\n",
    "- **Values (Y-axis):** The values or counts associated with each category are displayed on the y-axis.\n",
    "\n",
    "- **Bars:** Each category is represented by a bar, with the height of the bar proportional to the value it represents.\n",
    "\n",
    "**Examples of Use Cases:**\n",
    "\n",
    "- Visualizing sales data for different product categories.\n",
    "- Analyzing survey responses by age groups.\n",
    "- Comparing the performance of different teams or departments.\n",
    "\n",
    "Overall, bar plots are an essential tool in a data scientist's toolkit for exploring, analyzing, and presenting categorical data effectively."
   ]
  },
  {
   "cell_type": "code",
   "execution_count": null,
   "id": "6cf9c2b1-e01d-46c6-9ccf-02afe2ef63d3",
   "metadata": {
    "tags": []
   },
   "outputs": [],
   "source": [
    "import matplotlib.pyplot as plt\n",
    "\n",
    "# Define the categories and their corresponding values\n",
    "categories = ['A', 'B', 'C']\n",
    "values = [10, 23, 17]\n",
    "\n",
    "# Create a bar plot\n",
    "plt.bar(categories, values, color='skyblue')  # Create a bar plot with categories on the x-axis and values on the y-axis\n",
    "plt.title(\"Bar Plot\")  # Set the title of the plot\n",
    "plt.xlabel(\"Category\")  # Set the label for the x-axis\n",
    "plt.ylabel(\"Value\")  # Set the label for the y-axis\n",
    "\n",
    "# Display the plot\n",
    "plt.show()"
   ]
  },
  {
   "cell_type": "markdown",
   "id": "43dfaf4a-a8d0-461e-83b7-840aa2110f19",
   "metadata": {},
   "source": [
    "## Enhancing Visualizations with Seaborn\n",
    "\n",
    "Seaborn is built on top of Matplotlib and allows us to create more visually appealing plots with fewer lines of code. It also provides more sophisticated plots out of the box.\n"
   ]
  },
  {
   "cell_type": "markdown",
   "id": "f506e2b3-03f9-4975-8e6d-85adddb27822",
   "metadata": {},
   "source": [
    "### Seaborn Styles\n",
    "\n",
    "Seaborn offers different styles that can instantly enhance the aesthetics of your plots.\n"
   ]
  },
  {
   "cell_type": "code",
   "execution_count": null,
   "id": "067d2526-ffd6-4a20-8903-b42715971f04",
   "metadata": {
    "tags": []
   },
   "outputs": [],
   "source": [
    "# Setting Seaborn style\n",
    "sns.set_style(\"whitegrid\")"
   ]
  },
  {
   "cell_type": "markdown",
   "id": "fe2ac109-2ebf-49e1-beae-12903a99a0e4",
   "metadata": {},
   "source": [
    "### Box Plot\n",
    "\n",
    "Box plots, also known as box-and-whisker plots, are a valuable data visualization tool used in data science to display the distribution of numerical data and identify potential outliers. They provide a concise summary of a dataset's key statistical properties. Here's an overview of box plots and their utility:\n",
    "\n",
    "- **Distribution Visualization:** Box plots effectively show the distribution, central tendency, and spread of data. They provide insights into the data's skewness, variability, and presence of outliers.\n",
    "\n",
    "- **Identifying Outliers:** Box plots make it easy to identify potential outliers in a dataset. Outliers are data points that significantly deviate from the majority of the data, and they are represented as individual points beyond the \"whiskers\" of the plot.\n",
    "\n",
    "- **Comparing Distributions:** Box plots allow for the comparison of multiple distributions simultaneously. This is useful when you want to compare the distribution of a numerical variable across different groups or categories.\n",
    "\n",
    "- **Key Components of a Box Plot:**\n",
    "  - **Box:** The box represents the interquartile range (IQR), which contains the middle 50% of the data. The length of the box indicates the spread of this range.\n",
    "  - **Whiskers:** The whiskers extend from the box to the minimum and maximum values within a certain range (typically 1.5 times the IQR). Points beyond the whiskers are considered potential outliers.\n",
    "  - **Median (Line Inside the Box):** The median is the central value of the dataset, dividing it into two equal halves.\n",
    "  - **Outliers (Individual Points):** Outliers are data points that fall beyond the whiskers and are displayed as individual points.\n",
    "\n",
    "**Use Cases:**\n",
    "\n",
    "- Analyzing the distribution of customer purchase amounts.\n",
    "- Comparing the performance of different models in a machine learning competition.\n",
    "- Identifying potential anomalies in financial data.\n",
    "\n",
    "Box plots are a versatile tool for summarizing and visualizing numerical data and are widely used in data exploration and analysis.\n"
   ]
  },
  {
   "cell_type": "markdown",
   "id": "c318276a-3015-48a4-b6dc-528f4a7980b3",
   "metadata": {},
   "source": [
    "**Understanding the Interquartile Range (IQR) and Whiskers in Box Plots**\n",
    "\n",
    "In box plots, the Interquartile Range (IQR) plays a crucial role in visually representing the spread and variability of data. The IQR provides valuable insights into the central 50% of the data distribution, helping identify potential outliers.\n",
    "\n",
    "**Calculating the IQR:**\n",
    "\n",
    "1. **Q1 (First Quartile):** The first quartile, also known as the 25th percentile, marks the lower boundary of the box. It represents the data point below which 25% of the data falls.\n",
    "\n",
    "2. **Q3 (Third Quartile):** The third quartile, or the 75th percentile, marks the upper boundary of the box. It represents the data point below which 75% of the data falls.\n",
    "\n",
    "3. **IQR (Interquartile Range):** The IQR is calculated as the difference between Q3 and Q1: \n",
    "   \\[IQR = Q3 - Q1\\]\n",
    "\n",
    "**Whiskers in Box Plots:**\n",
    "\n",
    "The whiskers in a box plot extend from the edges of the box to indicate the range within which most of the data falls. They are calculated based on the IQR.\n",
    "\n",
    "- **Upper Whisker Endpoint:** The upper whisker extends to a distance of 1.5 times the IQR above the third quartile (Q3 + 1.5 * IQR). Data points beyond this endpoint are considered potential outliers and are plotted individually.\n",
    "\n",
    "- **Lower Whisker Endpoint:** The lower whisker extends to a distance of 1.5 times the IQR below the first quartile (Q1 - 1.5 * IQR). Data points below this endpoint are also considered potential outliers.\n",
    "\n",
    "Box plots are effective for visualizing the central tendency and spread of data, making it easy to identify outliers and understand data distribution characteristics.\n"
   ]
  },
  {
   "cell_type": "code",
   "execution_count": null,
   "id": "6d4cab6e-3957-4448-a8ec-0e3f91d4295b",
   "metadata": {
    "tags": []
   },
   "outputs": [],
   "source": [
    "# Import necessary libraries\n",
    "import seaborn as sns\n",
    "import matplotlib.pyplot as plt\n",
    "\n",
    "# Load the 'tips' dataset from Seaborn\n",
    "data = sns.load_dataset(\"tips\")\n",
    "\n",
    "print(data)\n",
    "\n",
    "# Create a box plot showing the distribution of 'total_bill' for each day of the week\n",
    "sns.boxplot(x='day', y='total_bill', data=data)\n",
    "\n",
    "# Add a title to the plot\n",
    "plt.title(\"Box Plot of Total Bill by Day\")\n",
    "\n",
    "# Label the x and y axes\n",
    "plt.xlabel(\"Day of the Week\")\n",
    "plt.ylabel(\"Total Bill ($)\")\n",
    "\n",
    "# Display the box plot\n",
    "plt.show()"
   ]
  },
  {
   "cell_type": "markdown",
   "id": "2b6b607f-0675-4d03-a507-a80db9c22962",
   "metadata": {},
   "source": [
    "Here's an example with 20 data points to calculate Q1, Q3, the Interquartile Range (IQR), and the whisker calculations using small integers:\n",
    "\n",
    "**Data:** 2, 5, 8, 11, 12, 13, 15, 18, 21, 22, 24, 25, 26, 28, 30, 33, 35, 38, 40, 42\n",
    "\n",
    "1. **Calculate Q1 (First Quartile):**\n",
    "   - Q1 is the median of the lower half of the data.\n",
    "   - Q1 = Median(2, 5, 8, 11, 12, 13, 15, 18, 21, 22) = 13\n",
    "\n",
    "2. **Calculate Q3 (Third Quartile):**\n",
    "   - Q3 is the median of the upper half of the data.\n",
    "   - Q3 = Median(24, 25, 26, 28, 30, 33, 35, 38, 40, 42) = 32\n",
    "\n",
    "3. **Calculate the Interquartile Range (IQR):**\n",
    "   - IQR = Q3 - Q1 = 32 - 13 = 19\n",
    "\n",
    "4. **Determine the Whiskers:**\n",
    "   - To calculate the whiskers, we use the following rules:\n",
    "     - Upper Whisker: Q3 + 1.5 * IQR\n",
    "     - Lower Whisker: Q1 - 1.5 * IQR\n",
    "   - Upper Whisker = 32 + 1.5 * 19 = 60.5\n",
    "   - Lower Whisker = 13 - 1.5 * 19 = -15.5\n",
    "\n",
    "Since no values fall outside the whisker range of -15.5 to 60.5 in this example, the whiskers would be at the minimum and maximum values of our dataset (2 and 42, respectively).\n"
   ]
  },
  {
   "cell_type": "markdown",
   "id": "7616b600-a981-4b52-9a56-517be10e0f09",
   "metadata": {},
   "source": [
    "### Pair Plot\n",
    "\n",
    "Pair plots are fantastic for displaying both the distribution of single variables and relationships between two variables.\n"
   ]
  },
  {
   "cell_type": "code",
   "execution_count": null,
   "id": "12ada115-deb2-49a9-9936-4b7b64046c89",
   "metadata": {
    "tags": []
   },
   "outputs": [],
   "source": [
    "# Import necessary libraries\n",
    "import seaborn as sns\n",
    "import matplotlib.pyplot as plt\n",
    "\n",
    "# Load the Iris dataset from Seaborn\n",
    "data = sns.load_dataset(\"iris\")\n",
    "\n",
    "print(data)\n",
    "\n",
    "# Create a pair plot with hue coloring based on species\n",
    "pair_plot = sns.pairplot(data, hue='species')\n",
    "\n",
    "# Customize titles for each species\n",
    "pair_plot.fig.suptitle(\"Pair Plot for Iris Species\", y=1.02)  # Main title\n",
    "pair_plot._legend.set_title(\"Species\")  # Legend title\n",
    "\n",
    "# Display the pair plot\n",
    "plt.show()"
   ]
  },
  {
   "cell_type": "markdown",
   "id": "d9ec45a0-7d2a-4a3f-a56a-cda5b9bed63d",
   "metadata": {},
   "source": [
    "### Violin Plot\n",
    "\n",
    "A violin plot is a data visualization that combines aspects of a box plot and a kernel density plot. It provides insights into the distribution of a numerical variable across different categories or groups. Key features of a violin plot include:\n",
    "\n",
    "- **Vertical Axis:** The vertical axis represents the numerical variable of interest (e.g., total bill amount).\n",
    "- **Horizontal Axis:** The horizontal axis represents the categories or groups (e.g., days of the week).\n",
    "- **Violin Shape:** Each violin-shaped element in the plot represents the distribution of data for a specific category. The width of the violin indicates the data density at different values, while the plot's symmetry reflects the data's symmetry.\n",
    "- **Box Plot Inside:** A box plot is usually displayed inside the violin, showing summary statistics like the median, quartiles, and potential outliers.\n",
    "\n",
    "Violin plots are useful for comparing the distribution of data across multiple categories, making them a valuable tool in exploratory data analysis and data visualization.\n"
   ]
  },
  {
   "cell_type": "code",
   "execution_count": null,
   "id": "915de1ca-2ce6-4f99-8445-b56cc341895f",
   "metadata": {
    "tags": []
   },
   "outputs": [],
   "source": [
    "import seaborn as sns\n",
    "import matplotlib.pyplot as plt\n",
    "\n",
    "# Load the dataset (You can replace this with your dataset)\n",
    "data = sns.load_dataset(\"tips\")\n",
    "\n",
    "print(data)\n",
    "\n",
    "# Create a violin plot to visualize the distribution of 'total_bill' across days\n",
    "sns.violinplot(x='day', y='total_bill', data=data)\n",
    "\n",
    "# Customize the plot's appearance\n",
    "plt.title(\"Violin Plot of Total Bill by Day\")\n",
    "plt.xlabel(\"Day of the Week\")\n",
    "plt.ylabel(\"Total Bill Amount\")\n",
    "\n",
    "# Show the plot\n",
    "plt.show()"
   ]
  },
  {
   "cell_type": "markdown",
   "id": "e7de83e7-36c7-4542-94e8-6628bddd2127",
   "metadata": {},
   "source": [
    "## Customizing Plot Aesthetics\n",
    "\n",
    "Being able to customize your plots is crucial to make them more informative and align with the audience's expectations. Both Matplotlib and Seaborn offer extensive customization options.\n"
   ]
  },
  {
   "cell_type": "markdown",
   "id": "01bf7cd5-dfbd-4d49-a2c9-7a690226c221",
   "metadata": {},
   "source": [
    "### Customizing with Matplotlib\n"
   ]
  },
  {
   "cell_type": "code",
   "execution_count": null,
   "id": "df86540a-d576-4a2d-bea6-098cda9e1254",
   "metadata": {
    "tags": []
   },
   "outputs": [],
   "source": [
    "# Generate an array of evenly spaced values from 0 to 10 with 100 points\n",
    "x = np.linspace(0, 10, 100)\n",
    "\n",
    "# Calculate the sine of each value in 'x' to create the 'y' values\n",
    "y = np.sin(x)\n",
    "\n",
    "# Create a new figure with a custom size (10 units wide, 5 units tall)\n",
    "plt.figure(figsize=(10, 5))\n",
    "\n",
    "# Plot 'x' against 'y' with a purple color, dashed line style, and linewidth of 2\n",
    "plt.plot(x, y, color='purple', linestyle='--', linewidth=2)\n",
    "\n",
    "# Set the title of the plot with a font size of 16\n",
    "plt.title(\"Customized Sine Wave\", fontsize=16)\n",
    "\n",
    "# Label the x-axis with \"X Axis\" and set the font size to 14\n",
    "plt.xlabel(\"X Axis\", fontsize=14)\n",
    "\n",
    "# Label the y-axis with \"Y Axis\" and set the font size to 14\n",
    "plt.ylabel(\"Y Axis\", fontsize=14)\n",
    "\n",
    "# Display grid lines on the plot\n",
    "plt.grid(True)\n",
    "\n",
    "# Show the plot\n",
    "plt.show()"
   ]
  },
  {
   "cell_type": "markdown",
   "id": "f5cb608d-4629-4a0a-854b-36ad39d638e4",
   "metadata": {},
   "source": [
    "### Customizing Seaborn Plots\n"
   ]
  },
  {
   "cell_type": "code",
   "execution_count": null,
   "id": "eb0eeb66-a3a5-4bf7-ab98-a8d8865cf0f1",
   "metadata": {
    "tags": []
   },
   "outputs": [],
   "source": [
    "# Set the color palette to \"husl\" (Hue, Saturation, Lightness)\n",
    "sns.set_palette(\"husl\")\n",
    "\n",
    "# Create a box plot using Seaborn\n",
    "# The 'x' variable represents the 'day' column, and 'y' represents the 'total_bill' column from the 'data' DataFrame\n",
    "sns.boxplot(x='day', y='total_bill', data=data)\n",
    "\n",
    "# Set the title of the plot\n",
    "plt.title(\"Box Plot with Custom Palette\", fontsize=16)\n",
    "\n",
    "# Display the plot\n",
    "plt.show()"
   ]
  },
  {
   "cell_type": "markdown",
   "id": "4dfd19b5-2255-4b74-9bce-6fe4133b412c",
   "metadata": {},
   "source": [
    "## Visualizing Data Distributions\n",
    "\n",
    "Understanding the distribution of your data is fundamental in any data analysis task. Visualization can quickly help identify patterns, outliers, and the general spread of data points.\n"
   ]
  },
  {
   "cell_type": "markdown",
   "id": "3ea31bfe-dc6f-4d32-8cf3-4248e2a9e494",
   "metadata": {},
   "source": [
    "### KDE Plot (Kernel Density Estimation)\n"
   ]
  },
  {
   "cell_type": "markdown",
   "id": "f41ef951-c152-4fa1-bd9d-d5c5d854c3b2",
   "metadata": {
    "tags": []
   },
   "source": [
    "\n",
    "A Kernel Density Estimate (KDE) plot is a non-parametric way to estimate the probability density function of a continuous random variable. In data science and statistics, KDE plots are used to visualize the distribution of a single variable, helping us understand its underlying probability distribution.\n",
    "\n",
    "**Why Use KDE Plots?**\n",
    "\n",
    "- **Smoothed Visualization:** KDE plots provide a smoothed representation of the data distribution, making it easier to identify patterns and modes.\n",
    "- **Probability Density:** KDE plots show the estimated probability density at different values along the variable's range.\n",
    "- **Comparison:** You can use KDE plots to compare distributions of multiple variables or groups, similar to histograms or box plots.\n",
    "\n",
    "**Using `kdeplot` in Matplotlib**\n",
    "\n",
    "- To create a KDE plot in Python, you can use the `kdeplot` function provided by the Seaborn library.\n",
    "- Pass the data you want to visualize as an argument to `kdeplot`, and it will generate the KDE estimate.\n",
    "- You can customize the plot's appearance using various parameters, such as `shade`, `color`, and labels.\n",
    "- KDE plots are often used in conjunction with histograms or other distribution plots to provide a more comprehensive view of data distribution."
   ]
  },
  {
   "cell_type": "code",
   "execution_count": null,
   "id": "553d722e-8bbb-4e2a-88bb-6a0e33604ebc",
   "metadata": {
    "tags": []
   },
   "outputs": [],
   "source": [
    "import seaborn as sns\n",
    "import matplotlib.pyplot as plt\n",
    "\n",
    "# Load the dataset (You can replace this with your dataset)\n",
    "data = sns.load_dataset(\"tips\")\n",
    "\n",
    "print(data)\n",
    "\n",
    "# Extract the 'total_bill' column data\n",
    "data_total_bill = data['total_bill']\n",
    "\n",
    "# Create a Kernel Density Estimate (KDE) plot for 'total_bill'\n",
    "sns.kdeplot(data_total_bill, fill=True, color='blue', label='Total Bill')\n",
    "\n",
    "# Customize the plot's appearance\n",
    "plt.title(\"Kernel Density Estimate (KDE) Plot of Total Bill\")\n",
    "plt.xlabel(\"Total Bill Amount\")\n",
    "plt.ylabel(\"Density\")\n",
    "plt.legend()\n",
    "\n",
    "# Show the plot\n",
    "plt.show()"
   ]
  },
  {
   "cell_type": "markdown",
   "id": "e7885c2b-1c51-4f0d-8e40-8ee68de5e4e4",
   "metadata": {},
   "source": [
    "### Joint Plot\n",
    "\n",
    "The `jointplot` function in Seaborn is a versatile tool for visualizing the relationship between two numerical variables. It provides several plot types, including scatter plots, kernel density plots, and regression plots, to help explore and understand the correlation and distribution of data points.\n",
    "\n",
    "- **Scatter Plot (`kind='scatter'`):** The scatter plot created by `jointplot` displays the individual data points from two variables, making it useful for exploring the relationship and possible patterns between them.\n",
    "\n",
    "- **Kernel Density Plot (`kind='kde'`):** This option generates a bivariate kernel density plot, which can be thought of as a two-dimensional histogram. It helps visualize the concentration of data points in different regions.\n",
    "\n",
    "- **Regression Plot (`kind='reg'`):** When you choose this option, `jointplot` adds a linear regression line with a scatter plot to show the relationship's trend and strength.\n",
    "\n",
    "- **Hexbin Plot (`kind='hex'`):** The hexbin plot is a 2D histogram represented as hexagons. It's useful for visualizing dense regions in the data.\n",
    "\n",
    "- **Residual Plot (`kind='resid'`):** This option complements the regression plot by displaying the residuals between the observed and predicted values.\n",
    "\n",
    "**Customization and Usage**\n",
    "\n",
    "- You can customize the appearance of the `jointplot` using standard Matplotlib functions like `plt.suptitle`, `plt.xlabel`, and `plt.ylabel`. This allows you to add context and labels to your plot.\n",
    "\n",
    "- `jointplot` typically displays two separate plots (scatter and marginal histograms) side by side. This arrangement provides a comprehensive view of the data and its relationships.\n",
    "\n",
    "- It's a valuable tool for understanding the relationships between different variables and is commonly used in exploratory data analysis (EDA).\n",
    "\n"
   ]
  },
  {
   "cell_type": "code",
   "execution_count": null,
   "id": "1db93250-dc4a-4f00-a12b-cc26ea5df3ae",
   "metadata": {
    "tags": []
   },
   "outputs": [],
   "source": [
    "import seaborn as sns\n",
    "import matplotlib.pyplot as plt\n",
    "\n",
    "# Load the dataset (You can replace this with your dataset)\n",
    "data = sns.load_dataset(\"tips\")\n",
    "\n",
    "# Create a joint plot to visualize the relationship between 'total_bill' and 'tip' with color coding\n",
    "sns.jointplot(x='total_bill', y='tip', data=data, kind='kde', cmap='viridis')\n",
    "\n",
    "# Customize the plot's appearance\n",
    "plt.suptitle(\"Scatter Plot of Total Bill vs Tip with Color Coding\", y=1.02)  # Title for the entire plot\n",
    "plt.xlabel(\"Total Bill Amount\")\n",
    "plt.ylabel(\"Tip Amount\")\n",
    "\n",
    "# Show the plot\n",
    "plt.show()"
   ]
  },
  {
   "cell_type": "markdown",
   "id": "f87d7c2d-ce8a-4f24-95a0-55ef9baf399e",
   "metadata": {},
   "source": [
    "## Plotting Time Series Data\n",
    "\n",
    "Time series plots are a common type of data visualization used in data science and analysis to display data points collected or recorded over time. In a time series plot:\n",
    "\n",
    "- **X-Axis (Horizontal Axis):** Represents time, often displayed as dates or timestamps. Time intervals between data points are usually consistent.\n",
    "\n",
    "- **Y-Axis (Vertical Axis):** Displays the values or measurements recorded at each corresponding time point.\n",
    "\n",
    "**Key Points:**\n",
    "\n",
    "- Time series plots help analysts and data scientists visualize how a specific variable or measurement changes over time.\n",
    "\n",
    "- They are useful for identifying trends, patterns, and anomalies in time-ordered data.\n",
    "\n",
    "- Time series plots can be used for various applications, such as stock price analysis, temperature monitoring, and economic forecasting.\n",
    "\n",
    "- Customization options include adding titles, labels, and adjusting the appearance to enhance clarity and understanding.\n",
    "\n",
    "**Graph Generation:**\n",
    "\n",
    "In the code example provided, the time series plot is generated using the following steps:\n",
    "\n",
    "1. **Creating Time Intervals:** The `pd.date_range` function generates a sequence of dates starting from \"2023-01-01\" and extending for 100 days with a daily frequency (`freq=\"D\"`). This creates a time axis representing dates.\n",
    "\n",
    "2. **Generating Data:** The `values` array is generated by taking the sine of equally spaced values between 0 and 10 using `np.linspace(0, 10, 100)`. Additionally, random noise is added using `np.random.rand(100) - 0.5`. This combination of sine waves and random noise creates a dataset simulating real-world time-dependent data.\n",
    "\n",
    "3. **Plotting:** The `plt.plot` function is used to create the time series plot, with time (dates) on the X-axis and the generated values on the Y-axis.\n",
    "\n",
    "Time series plots like this one are valuable for visualizing trends and patterns in time-ordered data, making them essential tools for time-dependent data analysis."
   ]
  },
  {
   "cell_type": "code",
   "execution_count": 95,
   "id": "92b5fb04-36fa-420a-a954-7dc073ec3245",
   "metadata": {
    "tags": []
   },
   "outputs": [
    {
     "data": {
      "image/png": "[encoded data removed]",
      "text/plain": [
       "<Figure size 640x480 with 1 Axes>"
      ]
     },
     "metadata": {},
     "output_type": "display_data"
    }
   ],
   "source": [
    "# Import necessary libraries\n",
    "import pandas as pd\n",
    "import numpy as np\n",
    "import matplotlib.pyplot as plt\n",
    "\n",
    "# Generate a time series with dates and values\n",
    "time = pd.date_range(\"2023-01-01\", periods=100, freq=\"D\")\n",
    "values = np.sin(np.linspace(0, 10, 100)) + np.random.rand(100) - 0.5\n",
    "\n",
    "# Create a time series plot\n",
    "plt.plot(time, values)\n",
    "\n",
    "# Customize plot labels and title\n",
    "plt.title(\"Time Series Plot\")\n",
    "plt.xlabel(\"Date\")\n",
    "plt.ylabel(\"Value\")\n",
    "\n",
    "# Show the plot\n",
    "plt.show()"
   ]
  },
  {
   "cell_type": "code",
   "execution_count": null,
   "id": "31e20d50-57a2-41d1-b61a-243da0137593",
   "metadata": {},
   "outputs": [],
   "source": []
  }
 ],
 "metadata": {
  "kernelspec": {
   "display_name": "Python 3 (ipykernel)",
   "language": "python",
   "name": "python3"
  },
  "language_info": {
   "codemirror_mode": {
    "name": "ipython",
    "version": 3
   },
   "file_extension": ".py",
   "mimetype": "text/x-python",
   "name": "python",
   "nbconvert_exporter": "python",
   "pygments_lexer": "ipython3",
   "version": "3.11.5"
  }
 },
 "nbformat": 4,
 "nbformat_minor": 5
}
