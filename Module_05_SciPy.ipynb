{
 "cells": [
  {
   "cell_type": "markdown",
   "id": "a7017e71-9a79-4332-88c7-705e6848c85c",
   "metadata": {},
   "source": [
    "# Module 5: Statistical Data Analysis with SciPy\n"
   ]
  },
  {
   "cell_type": "markdown",
   "id": "f3816f9b-e920-4895-b72c-0095d58a327b",
   "metadata": {},
   "source": [
    "Statistical analysis is a cornerstone of data science. It allows us to make sense of data, discern patterns, and make informed decisions. In this module, we'll explore key statistical functions provided by the SciPy library, which builds on top of NumPy and offers a vast collection of algorithms and toolkits for various scientific computing applications.\n"
   ]
  },
  {
   "cell_type": "markdown",
   "id": "c15e098c-d6bc-4a0a-a1b9-45588155286c",
   "metadata": {},
   "source": [
    "## Introduction to SciPy\n"
   ]
  },
  {
   "cell_type": "markdown",
   "id": "f0825336-9946-4757-b79d-5bb57bb9b1ae",
   "metadata": {},
   "source": [
    "SciPy is an open-source library used for high-level computations in mathematics, science, and engineering. It builds on the capabilities of NumPy and provides a large number of functions that operate on NumPy arrays and are useful for different types of scientific and engineering applications.\n"
   ]
  },
  {
   "cell_type": "code",
   "execution_count": null,
   "id": "1fd0be83-3fc6-430a-a103-3332a3d4c31f",
   "metadata": {
    "tags": []
   },
   "outputs": [],
   "source": [
    "# Importing required libraries\n",
    "import numpy as np\n",
    "import scipy.stats as stats"
   ]
  },
  {
   "cell_type": "markdown",
   "id": "b9b25d1c-8ee1-4a08-9b73-7dc5ba52cb69",
   "metadata": {},
   "source": [
    "## Descriptive Statistics\n"
   ]
  },
  {
   "cell_type": "markdown",
   "id": "9c431cf2-c74a-48ae-9711-2ba8bb318b77",
   "metadata": {},
   "source": [
    "Descriptive statistics are a fundamental part of data analysis. They help us understand the main characteristics of a dataset. SciPy, a scientific computing library in Python, provides various functions to calculate descriptive statistics easily. Here are some common descriptive statistics and how to use SciPy to compute them:\n",
    "\n",
    "- **Mean:** The mean (average) of a dataset is calculated using `np.mean(data)` or `data.mean()`. It represents the central value of the dataset.\n",
    "\n",
    "- **Median:** The median is the middle value of a dataset when it's sorted. It is calculated using `np.median(data)` or `np.percentile(data, 50)`. The median is less sensitive to extreme values than the mean.\n",
    "\n",
    "- **Mode:** The mode is the most frequently occurring value in a dataset. SciPy's `stats.mode(data)` function can be used to calculate it. It returns both the mode value and its count.\n",
    "\n",
    "These descriptive statistics help data scientists gain insights into the central tendency, spread, and distribution of data. They are valuable for summarizing and understanding data before diving into more advanced analyses.\n",
    "\n"
   ]
  },
  {
   "cell_type": "code",
   "execution_count": null,
   "id": "0fd509cf-95ea-48e3-b3fa-4f62fb493910",
   "metadata": {
    "tags": []
   },
   "outputs": [],
   "source": [
    "import numpy as np\n",
    "from scipy import stats\n",
    "\n",
    "# Sample data\n",
    "data = np.array([2, 4, 4, 4, 5, 5, 7, 9])\n",
    "\n",
    "# Calculate Mean\n",
    "mean_val = np.mean(data)\n",
    "\n",
    "# Calculate Median\n",
    "median_val = np.median(data)\n",
    "\n",
    "# Calculate Mode\n",
    "mode_val = stats.mode(data)\n",
    "\n",
    "# Display the results\n",
    "print(f\"Mean: {mean_val}\")\n",
    "print(f\"Median: {median_val}\")\n",
    "print(f\"Mode: {mode_val.mode} with a count of {mode_val.count}\")"
   ]
  },
  {
   "cell_type": "markdown",
   "id": "7c3cc9a0-3d27-4d08-8857-4a123d6fde19",
   "metadata": {},
   "source": [
    "## Probability Distributions\n"
   ]
  },
  {
   "cell_type": "markdown",
   "id": "7956d3fd-8833-4d21-8931-86dc18191ba9",
   "metadata": {},
   "source": [
    "Understanding different types of probability distributions is fundamental in statistics. They give us the foundation for inferential statistics and hypothesis testing. We'll explore a few essential distributions using SciPy.\n",
    "\n",
    "**Normal Distribution**\n",
    "\n",
    "The normal distribution, also known as the Gaussian distribution, is a common probability distribution characterized by its bell-shaped curve. In SciPy, you can generate random data following a normal distribution using `stats.norm.rvs()`. Here's how you can control the parameters:\n",
    "\n",
    "- `size`: This parameter determines the number of data points you want to generate. In our example, we generated 1000 data points.\n",
    "\n",
    "- `loc` (Mean): The `loc` parameter sets the mean (average) of the distribution. It determines the center of the bell curve.\n",
    "\n",
    "- `scale` (Standard Deviation): The `scale` parameter represents the standard deviation, which measures the spread or width of the distribution. A larger `scale` value results in a wider bell curve.\n",
    "\n",
    "**Exponential Distribution**\n",
    "\n",
    "The exponential distribution describes the time between events in a Poisson process, such as the time between arrivals in a queue. It's characterized by a decreasing probability density function and is generated in SciPy with `stats.expon.rvs()`. You can control its behavior with these parameters:\n",
    "\n",
    "- `size`: Similar to the normal distribution, `size` determines the number of data points you want to generate (we used 1000).\n",
    "\n",
    "- `loc` (Location): The `loc` parameter sets the starting point for the distribution. It determines where the distribution begins.\n",
    "\n",
    "- `scale` (Scale Parameter): The `scale` parameter influences the rate at which the distribution decreases. A larger `scale` value results in a slower decrease.\n",
    "\n",
    "In the code example below, we generated random data for both distributions, displayed the first 10 data points, and created histograms to visualize the distributions. These distributions are fundamental in statistics and are widely used in various fields, including data science and hypothesis testing.\n",
    "\n",
    "\n"
   ]
  },
  {
   "cell_type": "code",
   "execution_count": null,
   "id": "29ffdda3-5ff6-46f6-b674-589087c5219d",
   "metadata": {
    "tags": []
   },
   "outputs": [],
   "source": [
    "import numpy as np\n",
    "from scipy import stats\n",
    "import matplotlib.pyplot as plt\n",
    "\n",
    "# Generate random data for a Normal Distribution\n",
    "norm_data = stats.norm.rvs(size=1000, loc=0, scale=1)\n",
    "\n",
    "# Generate random data for an Exponential Distribution\n",
    "exp_data = stats.expon.rvs(size=1000, loc=0, scale=1)\n",
    "\n",
    "# Display the first 10 data points from each distribution\n",
    "print(\"Sample Normal Data:\", norm_data[:10])\n",
    "print(\"Sample Exponential Data:\", exp_data[:10])\n",
    "\n",
    "# Create histograms to visualize the distributions\n",
    "plt.figure(figsize=(12, 4))\n",
    "\n",
    "plt.subplot(1, 2, 1)\n",
    "plt.hist(norm_data, bins=30, color='skyblue', edgecolor='black')\n",
    "plt.title(\"Normal Distribution\")\n",
    "plt.xlabel(\"Value\")\n",
    "plt.ylabel(\"Frequency\")\n",
    "\n",
    "plt.subplot(1, 2, 2)\n",
    "plt.hist(exp_data, bins=30, color='lightcoral', edgecolor='black')\n",
    "plt.title(\"Exponential Distribution\")\n",
    "plt.xlabel(\"Value\")\n",
    "plt.ylabel(\"Frequency\")\n",
    "\n",
    "plt.tight_layout()\n",
    "plt.show()"
   ]
  },
  {
   "cell_type": "markdown",
   "id": "25273268-aff5-4713-868c-e1fa3a2ebcb8",
   "metadata": {},
   "source": [
    "## Hypothesis Testing\n"
   ]
  },
  {
   "cell_type": "markdown",
   "id": "0eb63dbb-7419-43d1-a5fe-907463dc36c1",
   "metadata": {},
   "source": [
    "**T-Test with SciPy**\n",
    "\n",
    "A t-test is a statistical test used to determine if there's a significant difference between the means of two groups or datasets. It's widely employed in hypothesis testing to assess whether the means are statistically different or if the observed differences are due to random chance. In SciPy, you can perform a t-test using the `stats.ttest_ind()` function.\n",
    "\n",
    "**Example: Two-Sample T-Test**\n",
    "\n",
    "In this example, we generate two datasets, `data1` and `data2`, each containing 100 random data points. These datasets are generated with different means (`loc`) and standard deviations (`scale`).\n",
    "\n",
    "- `data1`: This dataset is generated from a normal distribution with a mean (`loc`) of 0 and a standard deviation (`scale`) of 1.\n",
    "- `data2`: This dataset is generated from a normal distribution with a mean (`loc`) of 0.5 and a standard deviation (`scale`) of 1.5.\n",
    "\n",
    "We then perform a two-sample t-test using `stats.ttest_ind(data1, data2)` to compare the means of `data1` and `data2`. The t-statistic and p-value are computed and printed.\n",
    "\n",
    "**Interpreting the Results**\n",
    "\n",
    "- We choose a significance level (`alpha`) of 0.05 (commonly used).\n",
    "\n",
    "- If the p-value is less than `alpha`, we reject the null hypothesis, indicating that there's a significant difference between the means of the two datasets.\n",
    "\n",
    "- If the p-value is greater than or equal to `alpha`, we fail to reject the null hypothesis, suggesting that there's no significant difference between the means.\n",
    "\n",
    "In the example, we interpret the results based on the significance level and print whether the null hypothesis is rejected or not.\n",
    "\n"
   ]
  },
  {
   "cell_type": "code",
   "execution_count": 14,
   "id": "a1292a36-f582-418d-a1de-0a89b34d59f6",
   "metadata": {
    "tags": []
   },
   "outputs": [
    {
     "name": "stdout",
     "output_type": "stream",
     "text": [
      "T-statistic: -3.0282270946236767\n",
      "P-value: 0.002787453117267857\n",
      "\n",
      "Significance Level (alpha): 0.05\n",
      "Null hypothesis rejected: There is a significant difference between the datasets.\n"
     ]
    }
   ],
   "source": [
    "import numpy as np\n",
    "from scipy import stats\n",
    "\n",
    "# Generate two datasets with different means and standard deviations\n",
    "np.random.seed(0)\n",
    "data1 = stats.norm.rvs(size=100, loc=0, scale=1)\n",
    "data2 = stats.norm.rvs(size=100, loc=0.5, scale=1.5)\n",
    "\n",
    "# Perform a two-sample t-test to compare the means of data1 and data2\n",
    "t_statistic, p_value = stats.ttest_ind(data1, data2)\n",
    "\n",
    "# Output the results\n",
    "print(\"T-statistic:\", t_statistic)\n",
    "print(\"P-value:\", p_value)\n",
    "\n",
    "# Interpret the results\n",
    "alpha = 0.05  # Significance level\n",
    "print(\"\\nSignificance Level (alpha):\", alpha)\n",
    "\n",
    "if p_value < alpha:\n",
    "    print(\"Null hypothesis rejected: There is a significant difference between the datasets.\")\n",
    "else:\n",
    "    print(\"Null hypothesis not rejected: No significant difference between the datasets.\")\n"
   ]
  },
  {
   "cell_type": "markdown",
   "id": "2e961bee-4fcd-40a3-86f5-47ccd9ce16d8",
   "metadata": {},
   "source": [
    "## Correlation and Regression\n"
   ]
  },
  {
   "cell_type": "markdown",
   "id": "b67c89a0-344e-497c-9065-fad8a052cc52",
   "metadata": {},
   "source": [
    "\n",
    "**Correlation:**\n",
    "Correlation is a statistical measure that quantifies the strength and direction of a linear relationship between two continuous variables. It ranges from -1 (perfect negative correlation) to 1 (perfect positive correlation), with 0 indicating no linear correlation. In data science, correlation analysis is useful for understanding how two variables change together and whether there is a relationship between them.\n",
    "\n",
    "**Linear Regression:**\n",
    "Linear regression is a statistical technique used to model the relationship between a dependent variable (in this case, 'y') and one or more independent variables (in this case, 'x'). It assumes a linear relationship of the form \\(y = mx + b\\), where 'm' is the slope (regression coefficient), 'b' is the intercept, and 'x' is the independent variable. Linear regression aims to find the best-fitting line (regression line) that minimizes the sum of squared differences between observed and predicted values. It's commonly used in data science for prediction and understanding relationships between variables.\n",
    "\n",
    "**Use Cases:**\n",
    "- **Correlation:** Correlation analysis is used to explore relationships between variables. For example, in finance, it can help understand how the returns of two stocks are correlated. In healthcare, it can be used to investigate the correlation between a patient's age and blood pressure.\n",
    "\n",
    "$$ Correlation(r) = \\frac{\\sum{xy}}{\\sqrt{\\sum{x^2} \\cdot \\sum{y^2}}} $$\n",
    "\n",
    "\n",
    "- **Linear Regression:** Linear regression is employed when we want to predict a dependent variable based on one or more independent variables. For instance, predicting house prices based on square footage and location or forecasting sales based on advertising spending. It's also used in understanding how changes in independent variables affect the dependent variable.\n",
    "\n",
    "Both correlation and linear regression are valuable tools in a data scientist's toolkit for exploring, modeling, and making predictions based on data.\n",
    "\n"
   ]
  },
  {
   "cell_type": "code",
   "execution_count": 15,
   "id": "cc749c6e-c7ce-4521-a8bc-892dd5a96091",
   "metadata": {
    "tags": []
   },
   "outputs": [
    {
     "data": {
      "image/png": "[encoded data removed]",
      "text/plain": [
       "<Figure size 1000x500 with 2 Axes>"
      ]
     },
     "metadata": {},
     "output_type": "display_data"
    },
    {
     "name": "stdout",
     "output_type": "stream",
     "text": [
      "Correlation: 0.99\n",
      "Regression Line: y = 2.50x + -0.01\n"
     ]
    }
   ],
   "source": [
    "import numpy as np\n",
    "import matplotlib.pyplot as plt\n",
    "from scipy import stats\n",
    "\n",
    "# Generate random data with a linear relationship and some noise\n",
    "x = np.random.rand(100)\n",
    "y = 2.5 * x + np.random.normal(0, 0.1, 100)  # y is linearly dependent on x with some noise\n",
    "\n",
    "# Calculate Pearson Correlation\n",
    "correlation, _ = stats.pearsonr(x, y)\n",
    "\n",
    "# Calculate Linear Regression\n",
    "slope, intercept, r_value, p_value, std_err = stats.linregress(x, y)\n",
    "\n",
    "# Create scatter plot\n",
    "plt.figure(figsize=(10, 5))\n",
    "plt.subplot(1, 2, 1)\n",
    "plt.scatter(x, y, label='Data Points', alpha=0.7)\n",
    "plt.xlabel('X')\n",
    "plt.ylabel('Y')\n",
    "plt.title(f'Scatter Plot (Correlation: {correlation:.2f})')\n",
    "\n",
    "# Create regression line plot\n",
    "plt.subplot(1, 2, 2)\n",
    "plt.scatter(x, y, label='Data Points', alpha=0.7)\n",
    "plt.plot(x, slope * x + intercept, color='red', label=f'Regression Line: y = {slope:.2f}x + {intercept:.2f}')\n",
    "plt.xlabel('X')\n",
    "plt.ylabel('Y')\n",
    "plt.title('Linear Regression')\n",
    "\n",
    "# Add legend\n",
    "plt.legend(loc='best')\n",
    "\n",
    "# Show plots\n",
    "plt.tight_layout()\n",
    "plt.show()\n",
    "\n",
    "# Print results\n",
    "print(f\"Correlation: {correlation:.2f}\")\n",
    "print(f\"Regression Line: y = {slope:.2f}x + {intercept:.2f}\")"
   ]
  },
  {
   "cell_type": "markdown",
   "id": "c4d4b755-ed53-452d-9eac-1aa1b3cf6609",
   "metadata": {
    "tags": []
   },
   "source": [
    "**Suppose we have two sets of data, X and Y:**\n",
    "\n",
    "X: [1, 2, 3, 4, 5]\n",
    "Y: [2, 4, 6, 8, 10]\n",
    "\n",
    "We can calculate the correlation coefficient (\\( r \\)) between X and Y using the correlation formula:\n",
    "\n",
    "$$ r = \\frac{\\sum(xy)}{\\sqrt{\\sum x^2} \\cdot \\sqrt{\\sum y^2}} $$\n",
    "\n",
    "**Now, let's calculate each component of the equation:**\n",
    "\n",
    "1. Sum of the products of corresponding values in X and Y:\n",
    "\n",
    "$$ \\sum(xy) = (1 \\cdot 2) + (2 \\cdot 4) + (3 \\cdot 6) + (4 \\cdot 8) + (5 \\cdot 10) = 2 + 8 + 18 + 32 + 50 = 110 $$\n",
    "\n",
    "2. Sum of the squares of values in X:\n",
    "\n",
    "$$ \\sum x^2 = (1^2) + (2^2) + (3^2) + (4^2) + (5^2) = 1 + 4 + 9 + 16 + 25 = 55 $$\n",
    "\n",
    "3. Sum of the squares of values in Y:\n",
    "\n",
    "$$ \\sum y^2 = (2^2) + (4^2) + (6^2) + (8^2) + (10^2) = 4 + 16 + 36 + 64 + 100 = 220 $$\n",
    "\n",
    "**Now, plug these values into the correlation formula:**\n",
    "\n",
    "$$ r = \\frac{\\sum(xy)}{\\sqrt{\\sum x^2} \\cdot \\sqrt{\\sum y^2}} = \\frac{110}{\\sqrt{55} \\cdot \\sqrt{220}} $$\n",
    "\n",
    "**Calculating the square roots:**\n",
    "\n",
    "$$ \\sqrt{55} \\approx 7.42 $$\n",
    "$$ \\sqrt{220} \\approx 14.83 $$\n",
    "\n",
    "**Now, divide \\( \\sum(xy) \\) by the product of the square roots:**\n",
    "\n",
    "$$ r \\approx \\frac{110}{7.42 \\cdot 14.83} \\approx \\frac{110}{110.31} \\approx 0.995 $$\n",
    "\n",
    "So, the correlation coefficient (\\( r \\)) between X and Y is approximately 0.995, indicating a very strong positive correlation.\n"
   ]
  },
  {
   "cell_type": "code",
   "execution_count": null,
   "id": "6670bc7c-e55e-428f-a1de-78ba401f51f3",
   "metadata": {},
   "outputs": [],
   "source": []
  }
 ],
 "metadata": {
  "kernelspec": {
   "display_name": "Python 3 (ipykernel)",
   "language": "python",
   "name": "python3"
  },
  "language_info": {
   "codemirror_mode": {
    "name": "ipython",
    "version": 3
   },
   "file_extension": ".py",
   "mimetype": "text/x-python",
   "name": "python",
   "nbconvert_exporter": "python",
   "pygments_lexer": "ipython3",
   "version": "3.11.5"
  }
 },
 "nbformat": 4,
 "nbformat_minor": 5
}
