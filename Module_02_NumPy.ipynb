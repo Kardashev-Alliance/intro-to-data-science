{
 "cells": [
  {
   "cell_type": "markdown",
   "id": "ca822b8b-39d2-4950-a57b-cade22ce5083",
   "metadata": {},
   "source": [
    "# Introduction to NumPy"
   ]
  },
  {
   "cell_type": "code",
   "execution_count": 30,
   "id": "eea16cef-770f-40e9-bca5-9560ca690e95",
   "metadata": {
    "tags": []
   },
   "outputs": [],
   "source": [
    "import numpy as np"
   ]
  },
  {
   "cell_type": "markdown",
   "id": "3268bf4f-3c84-4603-9ae1-1f4dedb54baa",
   "metadata": {},
   "source": [
    "## Overview"
   ]
  },
  {
   "cell_type": "markdown",
   "id": "693a7964-04ba-4f48-9380-028f56135218",
   "metadata": {},
   "source": [
    "NumPy, short for Numerical Python, is a foundational package for numerical computations in Python. It provides support for arrays (including multidimensional arrays), as well as an assortment of mathematical functions to operate on these arrays. With NumPy, mathematical and logical operations on arrays can be executed efficiently."
   ]
  },
  {
   "cell_type": "markdown",
   "id": "453fe34c-4590-455a-b28e-00970c9279f3",
   "metadata": {},
   "source": [
    "> **Efficiency of NumPy Arrays vs. Python Lists**\n",
    ">\n",
    "> NumPy arrays offer significant advantages over Python lists in terms of efficiency, making them the preferred choice for numerical and scientific computing. Here's a comparison of key factors that highlight the efficiency of NumPy arrays:\n",
    ">\n",
    "> - **Homogeneous Data Types:** NumPy arrays are designed to store elements of the same data type, which allows for efficient memory usage and faster mathematical operations. In contrast, Python lists can contain elements of different data types, resulting in increased memory overhead and slower computations when performing operations.\n",
    ">\n",
    "> - **Vectorization:** NumPy leverages vectorized operations, which means that mathematical operations are applied element-wise to entire arrays, rather than using explicit loops. This approach results in faster execution times for operations like addition, multiplication, and more. In Python lists, you would need to use explicit loops, which are inherently slower.\n",
    ">\n",
    "> - **Optimized Algorithms:** NumPy implements optimized algorithms in low-level languages like C and Fortran. These algorithms are highly efficient and are used for various operations, such as sorting, searching, and mathematical computations. Python lists rely on general-purpose algorithms, which are not as optimized for numerical tasks.\n",
    ">\n",
    "> - **Contiguous Memory:** NumPy arrays are stored in contiguous blocks of memory, allowing for efficient data access and minimizing cache misses. This contiguous memory allocation is represented as follows:\n",
    ">\n",
    "> ![NumPy Contiguous Memory](https://jakevdp.github.io/PythonDataScienceHandbook/figures/array_vs_list.png)\n",
    ">\n",
    "> In the diagram, you can see that NumPy arrays store elements in a continuous block of memory, making it easy to access and process data efficiently. Python lists, on the other hand, may have scattered memory allocations, which can lead to slower data access times.\n",
    ">\n",
    "> - **Parallel Processing:** NumPy can take advantage of multi-core processors through parallel processing, making it faster for large-scale computations. Python lists cannot easily benefit from parallelization.\n",
    ">\n",
    "> - **Third-Party Libraries:** NumPy seamlessly integrates with other data science and numerical computing libraries like SciPy, scikit-learn, and pandas. These libraries are also optimized for NumPy arrays, resulting in efficient workflows.\n",
    ">\n",
    "> In summary, NumPy arrays are designed with efficiency in mind, offering homogeneous data storage, vectorized operations, optimized algorithms, and better memory management with contiguous memory blocks. For numerical and scientific computing tasks, using NumPy arrays over Python lists can lead to significant performance improvements and faster development.\n"
   ]
  },
  {
   "cell_type": "markdown",
   "id": "2c84dca4-a330-4f3f-b1e5-853f857edc8f",
   "metadata": {},
   "source": [
    "# Creating NumPy Arrays"
   ]
  },
  {
   "cell_type": "markdown",
   "id": "150b4893-2e52-419e-bbe5-bc869ed18c29",
   "metadata": {},
   "source": [
    "## From Lists"
   ]
  },
  {
   "cell_type": "markdown",
   "id": "7f8a7e59-9494-4017-9e2c-24fedf449c6b",
   "metadata": {},
   "source": [
    "> **Python List vs. NumPy Array**\n",
    "> \n",
    "> Python lists and NumPy arrays are both used to store collections of data, but they have significant differences in terms of functionality and performance.\n",
    "> \n",
    "> - **Data Types:** Python lists can hold elements of different data types, making them versatile but potentially less efficient for numerical operations. NumPy arrays, on the other hand, are homogeneous, meaning all elements must have the same data type, which allows for more efficient numerical computations.\n",
    "> \n",
    "> - **Performance:** NumPy arrays are optimized for numerical operations and are significantly faster than Python lists when performing element-wise operations. This is because NumPy arrays are implemented in C and are stored in contiguous memory, whereas Python lists are more flexible but may involve additional overhead.\n",
    "> \n",
    "> - **Functionality:** NumPy arrays provide a wide range of mathematical and array-oriented operations, such as element-wise addition, multiplication, and statistical functions. Python lists offer fewer built-in operations and require more explicit iteration for similar tasks.\n",
    "> \n",
    "> - **Broadcasting:** NumPy arrays support broadcasting, which allows operations between arrays of different shapes to be performed efficiently. Python lists do not have this feature, requiring more explicit element-wise operations.\n",
    "> \n",
    "> In summary, if your task involves numerical computations, data analysis, or machine learning, NumPy arrays are the preferred choice due to their performance and built-in functionality. Python lists are more general-purpose and flexible but may be less efficient for numerical tasks.\n"
   ]
  },
  {
   "cell_type": "code",
   "execution_count": 63,
   "id": "595834c3-0edb-4b65-abda-3ee1c39f8355",
   "metadata": {
    "tags": []
   },
   "outputs": [
    {
     "name": "stdout",
     "output_type": "stream",
     "text": [
      "1D Array from a List:\n",
      "[1 2 3]\n",
      "\n",
      "2D Array from a List of Lists:\n",
      "[[1 2]\n",
      " [3 4]\n",
      " [5 6]]\n"
     ]
    }
   ],
   "source": [
    "# Creating a 1D array from a list\n",
    "array1 = np.array([1, 2, 3])\n",
    "print(\"1D Array from a List:\")\n",
    "print(array1)\n",
    "\n",
    "# Creating a 2D array from a list of lists\n",
    "array2 = np.array([[1, 2], [3, 4], [5, 6]])\n",
    "print(\"\\n2D Array from a List of Lists:\")\n",
    "print(array2)"
   ]
  },
  {
   "cell_type": "markdown",
   "id": "496441a9-8da3-457c-ac5a-df1d2ea75bc2",
   "metadata": {},
   "source": [
    "## Using Built-in Functions"
   ]
  },
  {
   "cell_type": "markdown",
   "id": "bd458950-80c1-4825-a0a8-ceab4fad8920",
   "metadata": {},
   "source": [
    "> **NumPy Built-In Functions**\n",
    ">\n",
    "> NumPy provides a wide range of built-in functions that simplify common array operations. Here are explanations and common use cases for some of these functions:\n",
    "> \n",
    "> - **Array of Zeros (`np.zeros`):** The `np.zeros` function creates a NumPy array filled with zeros. This function is commonly used when you want to initialize an array with zeros before performing numerical computations. For example, when creating a placeholder for data or storing the results of an operation in a NumPy array.\n",
    "> \n",
    "> - **Array of Ones (`np.ones`):** Similar to `np.zeros`, the `np.ones` function generates a NumPy array filled with ones. It is often used in scenarios where you need to initialize an array with ones before performing operations. For instance, when defining weights in machine learning models or creating a mask for certain data manipulation tasks.\n",
    "> \n",
    "> - **Identity Matrix (`np.eye`):** The `np.eye` function produces an identity matrix of the specified size. Identity matrices are commonly used in linear algebra, especially in matrix operations like matrix multiplication. They serve as the multiplicative identity element in matrix algebra and are fundamental for transformations and solving linear equations.\n",
    ">\n",
    "> [Identity Matrix Video](https://www.youtube.com/watch?v=3cnIa0fYJkY)\n",
    "> \n",
    "> These NumPy functions are valuable for various data science and scientific computing tasks. They help you quickly create arrays with specific values or structures, making your code more efficient and readable.\n"
   ]
  },
  {
   "cell_type": "code",
   "execution_count": 32,
   "id": "2e3c2bfa-38d6-4646-b098-dd02bd9a819d",
   "metadata": {
    "tags": []
   },
   "outputs": [
    {
     "name": "stdout",
     "output_type": "stream",
     "text": [
      "Array of Zeros:\n",
      "[0. 0. 0.]\n",
      "\n",
      "Array of Ones:\n",
      "[[1. 1. 1.]\n",
      " [1. 1. 1.]]\n",
      "\n",
      "Identity Matrix:\n",
      "[[1. 0. 0.]\n",
      " [0. 1. 0.]\n",
      " [0. 0. 1.]]\n"
     ]
    }
   ],
   "source": [
    "# Creating an array of zeros\n",
    "zeros = np.zeros(3)\n",
    "print(\"Array of Zeros:\")\n",
    "print(zeros)\n",
    "\n",
    "# Creating an array of ones with shape (2, 3)\n",
    "ones = np.ones((2, 3))\n",
    "print(\"\\nArray of Ones:\")\n",
    "print(ones)\n",
    "\n",
    "# Creating a 3x3 identity matrix\n",
    "identity = np.eye(3)\n",
    "print(\"\\nIdentity Matrix:\")\n",
    "print(identity)"
   ]
  },
  {
   "cell_type": "markdown",
   "id": "0c3aacea-904b-47a2-962e-493938c1b3f6",
   "metadata": {},
   "source": [
    "# Numpy Array Operations"
   ]
  },
  {
   "cell_type": "markdown",
   "id": "76f83163-4c52-4d0f-ab79-037719ec223c",
   "metadata": {},
   "source": [
    "## Arithmetic Operations"
   ]
  },
  {
   "cell_type": "markdown",
   "id": "fc4a26f6-178e-495c-95f6-a2b5344e45ba",
   "metadata": {},
   "source": [
    "> **NumPy Arithmetic Operations with Arrays**\n",
    ">\n",
    "> NumPy allows for various arithmetic operations with arrays, making it a powerful tool for numerical computing. Here's an explanation of how each of these arithmetic operations works with arrays or matrices:\n",
    "> \n",
    "> - **Addition (`+`):** When you add two NumPy arrays together using the `+` operator, element-wise addition is performed. This means that each corresponding element in the two arrays is added together, resulting in a new array of the same shape.\n",
    "> \n",
    "> - **Subtraction (`-`):** Subtraction between two NumPy arrays using the `-` operator also happens element-wise. Each element in the second array is subtracted from the corresponding element in the first array, producing a new array with the same shape.\n",
    "> \n",
    "> - **Multiplication (`*`):** Multiplication of NumPy arrays using the `*` operator is, once again, performed element-wise. Each element in one array is multiplied by the corresponding element in the other array, resulting in a new array with the same shape.\n",
    "> \n",
    "> - **Division (`/`):** Division between NumPy arrays using the `/` operator is element-wise as well. Each element in the first array is divided by the corresponding element in the second array, yielding a new array with the same shape.\n",
    "> \n",
    "> - **Exponentiation (`**` or `np.power`):** You can raise a NumPy array to a power using the `**` operator or the `np.power` function. This performs element-wise exponentiation, where each element in the array is raised to the specified power, producing a new array with the same shape.\n",
    "> \n",
    "> - **Modulus (`%` or `np.mod`):** The modulus operation calculates the remainder when one array is divided by another. You can use the `%` operator or the `np.mod` function for element-wise modulus calculations, resulting in a new array of the same shape.\n",
    ">\n",
    "> These element-wise arithmetic operations make it easy to perform various mathematical computations on arrays of data, which is a fundamental capability in data science and scientific computing.\n",
    ">\n",
    "> **Array Shape Compatibility in NumPy**\n",
    ">\n",
    "> In NumPy, it's crucial to ensure that arrays involved in basic arithmetic operations (such as addition, subtraction, multiplication, division, exponentiation, and modulus) have compatible shapes. Compatibility means that the arrays either have the same shape or can be broadcasted to match each other's shape.\n",
    ">\n",
    "> **Element-Wise Operations**\n",
    ">\n",
    "> Element-wise operations are mathematical operations performed on arrays by applying the operation to corresponding elements based on their positions in the arrays. These operations are performed independently for each element pair, resulting in an output array of the same shape as the input arrays. Element-wise operations are a fundamental concept in NumPy and play a key role in numerical computing and data manipulation.\n",
    "\n"
   ]
  },
  {
   "cell_type": "code",
   "execution_count": 50,
   "id": "4fda90fd-e051-478a-af9a-22494f80710a",
   "metadata": {
    "tags": []
   },
   "outputs": [],
   "source": [
    "# Creating two NumPy arrays\n",
    "a = np.array([1, 2, 3])\n",
    "b = np.array([4, 5, 6])"
   ]
  },
  {
   "cell_type": "code",
   "execution_count": 34,
   "id": "9b46af99-3270-43a1-b69c-dc47b61ef43e",
   "metadata": {
    "tags": []
   },
   "outputs": [
    {
     "name": "stdout",
     "output_type": "stream",
     "text": [
      "Addition:\n",
      "[5 7 9]\n"
     ]
    }
   ],
   "source": [
    "# Addition\n",
    "addition = a + b\n",
    "print(\"Addition:\")\n",
    "print(addition)"
   ]
  },
  {
   "cell_type": "code",
   "execution_count": 35,
   "id": "c450163d-ba86-4d83-90fc-55c02d5ef545",
   "metadata": {
    "tags": []
   },
   "outputs": [
    {
     "name": "stdout",
     "output_type": "stream",
     "text": [
      "\n",
      "Subtraction:\n",
      "[-3 -3 -3]\n"
     ]
    }
   ],
   "source": [
    "# Subtraction\n",
    "subtraction = a - b\n",
    "print(\"\\nSubtraction:\")\n",
    "print(subtraction)"
   ]
  },
  {
   "cell_type": "code",
   "execution_count": 36,
   "id": "776cb270-1420-44d3-93c0-61cb1485eba7",
   "metadata": {
    "tags": []
   },
   "outputs": [
    {
     "name": "stdout",
     "output_type": "stream",
     "text": [
      "\n",
      "Multiplication:\n",
      "[ 4 10 18]\n"
     ]
    }
   ],
   "source": [
    "# Multiplication\n",
    "multiplication = a * b\n",
    "print(\"\\nMultiplication:\")\n",
    "print(multiplication)"
   ]
  },
  {
   "cell_type": "code",
   "execution_count": 37,
   "id": "2240e23b-d9d4-4f15-b116-1c8c1fe2d71a",
   "metadata": {
    "tags": []
   },
   "outputs": [
    {
     "name": "stdout",
     "output_type": "stream",
     "text": [
      "\n",
      "Division:\n",
      "[0.25 0.4  0.5 ]\n"
     ]
    }
   ],
   "source": [
    "# Division\n",
    "division = a / b\n",
    "print(\"\\nDivision:\")\n",
    "print(division)"
   ]
  },
  {
   "cell_type": "code",
   "execution_count": 38,
   "id": "10ced06a-5da1-4cc7-9734-d96c2c6f50ee",
   "metadata": {
    "tags": []
   },
   "outputs": [
    {
     "name": "stdout",
     "output_type": "stream",
     "text": [
      "\n",
      "Exponentiation:\n",
      "[  1  32 729]\n"
     ]
    }
   ],
   "source": [
    "# Exponentiation\n",
    "exponentiation = a ** b\n",
    "print(\"\\nExponentiation:\")\n",
    "print(exponentiation)"
   ]
  },
  {
   "cell_type": "code",
   "execution_count": 39,
   "id": "ff1d268c-74c7-4126-bf8a-eadfce4c5a76",
   "metadata": {
    "tags": []
   },
   "outputs": [
    {
     "name": "stdout",
     "output_type": "stream",
     "text": [
      "\n",
      "Modulus:\n",
      "[1 2 3]\n"
     ]
    }
   ],
   "source": [
    "# Modulus\n",
    "modulus = a % b\n",
    "print(\"\\nModulus:\")\n",
    "print(modulus)"
   ]
  },
  {
   "cell_type": "markdown",
   "id": "78941eaa-ba9d-437d-acc7-14331fa0291b",
   "metadata": {},
   "source": [
    "## Aggregation\n"
   ]
  },
  {
   "cell_type": "markdown",
   "id": "81d24668-6f42-4d57-9cee-7f682ea44cd4",
   "metadata": {},
   "source": [
    "> **NumPy Aggregation Operations**\n",
    ">\n",
    "> NumPy provides various aggregation operations to summarize data in arrays. These operations help extract valuable insights from numerical data. Here are some common aggregation operations and their use cases:\n",
    "> \n",
    "> - **Summation (`np.sum`):** The `np.sum` function calculates the sum of all elements in an array. It is commonly used to find the total of numerical values in an array, such as calculating the total sales for a period.\n",
    "> \n",
    "> - **Mean (`np.mean`):** The `np.mean` function computes the average or mean of the elements in an array. It is used to determine the central tendency of the data. For instance, you might use it to find the average score in a set of test results.\n",
    "> \n",
    "> - **Maximum Value (`np.max`):** The `np.max` function identifies the maximum value in an array. It is helpful when you want to find the highest recorded value in a dataset, such as the maximum temperature in a weather dataset.\n",
    "> \n",
    "> - **Minimum Value (`np.min`):** The `np.min` function finds the minimum value in an array. It's useful for discovering the lowest data point in a dataset, like finding the minimum stock price in a financial dataset.\n",
    "> \n",
    "> - **Median (`np.median`):** The `np.median` function calculates the median of an array, which represents the middle value when the elements are sorted. Median is often used when dealing with data containing outliers.\n",
    "> \n",
    "> - **Standard Deviation (`np.std`):** The `np.std` function computes the standard deviation of the elements in an array. It measures the amount of variation or dispersion in the data. For instance, it's used to analyze how spread out data points are in a set.\n",
    "> \n",
    "> - **Variance (`np.var`):** The `np.var` function calculates the variance of an array, which quantifies how much data points deviate from the mean. It's commonly used in statistics to assess data distribution.\n",
    "> \n",
    "> These aggregation operations help data scientists and analysts understand, summarize, and draw insights from data efficiently.\n"
   ]
  },
  {
   "cell_type": "code",
   "execution_count": 40,
   "id": "35a6189b-aad5-44b4-b903-695ab416e5a3",
   "metadata": {
    "tags": []
   },
   "outputs": [
    {
     "name": "stdout",
     "output_type": "stream",
     "text": [
      "Sum of elements in 'a': 6\n"
     ]
    }
   ],
   "source": [
    "# Sum of elements\n",
    "sum_val = np.sum(a)\n",
    "print(f\"Sum of elements in 'a': {sum_val}\")"
   ]
  },
  {
   "cell_type": "code",
   "execution_count": 41,
   "id": "516eea46-bddf-499e-a5f5-9f30b75cf53a",
   "metadata": {
    "tags": []
   },
   "outputs": [
    {
     "name": "stdout",
     "output_type": "stream",
     "text": [
      "Mean of elements in 'b': 5.0\n"
     ]
    }
   ],
   "source": [
    "# Mean of elements\n",
    "mean_val = np.mean(b)\n",
    "print(f\"Mean of elements in 'b': {mean_val}\")"
   ]
  },
  {
   "cell_type": "code",
   "execution_count": 42,
   "id": "28c45a61-a1dc-4eeb-8463-914eb3a5fc65",
   "metadata": {
    "tags": []
   },
   "outputs": [
    {
     "name": "stdout",
     "output_type": "stream",
     "text": [
      "Maximum value in 'a': 3\n"
     ]
    }
   ],
   "source": [
    "# Maximum value\n",
    "max_val = np.max(a)\n",
    "print(f\"Maximum value in 'a': {max_val}\")"
   ]
  },
  {
   "cell_type": "code",
   "execution_count": 43,
   "id": "7b195ee1-8253-4c1b-8691-2dc9b357e23e",
   "metadata": {
    "tags": []
   },
   "outputs": [
    {
     "name": "stdout",
     "output_type": "stream",
     "text": [
      "Minimum value in 'b': 4\n"
     ]
    }
   ],
   "source": [
    "# Minimum value\n",
    "min_val = np.min(b)\n",
    "print(f\"Minimum value in 'b': {min_val}\")"
   ]
  },
  {
   "cell_type": "code",
   "execution_count": 44,
   "id": "3b7342bb-3575-4c4a-a15d-a9a98412717b",
   "metadata": {
    "tags": []
   },
   "outputs": [
    {
     "name": "stdout",
     "output_type": "stream",
     "text": [
      "Median of elements in 'a': 2.0\n"
     ]
    }
   ],
   "source": [
    "# Median\n",
    "median_val = np.median(a)\n",
    "print(f\"Median of elements in 'a': {median_val}\")"
   ]
  },
  {
   "cell_type": "code",
   "execution_count": 45,
   "id": "5a6985fe-e537-439b-b6d8-9a0bfe5b40ca",
   "metadata": {
    "tags": []
   },
   "outputs": [
    {
     "name": "stdout",
     "output_type": "stream",
     "text": [
      "Standard deviation of elements in 'b': 0.816496580927726\n"
     ]
    }
   ],
   "source": [
    "# Standard deviation\n",
    "std_dev = np.std(b)\n",
    "print(f\"Standard deviation of elements in 'b': {std_dev}\")"
   ]
  },
  {
   "cell_type": "code",
   "execution_count": 46,
   "id": "b5eb35ab-6e8d-47b0-9349-0505da11cf24",
   "metadata": {
    "tags": []
   },
   "outputs": [
    {
     "name": "stdout",
     "output_type": "stream",
     "text": [
      "Variance of elements in 'a': 0.6666666666666666\n"
     ]
    }
   ],
   "source": [
    "# Variance\n",
    "variance = np.var(a)\n",
    "print(f\"Variance of elements in 'a': {variance}\")"
   ]
  },
  {
   "cell_type": "markdown",
   "id": "cb145b8a-6cb9-4593-b43e-5acd93a15d79",
   "metadata": {},
   "source": [
    "# Array Indexing and Slicing\n"
   ]
  },
  {
   "cell_type": "markdown",
   "id": "e2f7d5f9-97f3-4da4-a761-c53e1bbf1430",
   "metadata": {},
   "source": [
    "## Indexing\n"
   ]
  },
  {
   "cell_type": "markdown",
   "id": "a7776397-e6ee-43f1-8e24-0fd1a3ad2c95",
   "metadata": {},
   "source": [
    "**Indexing with NumPy Arrays**\n",
    "\n",
    "NumPy provides versatile indexing capabilities for arrays. Here are some common indexing techniques:\n",
    "\n",
    "- **Second element of 'a' (`a[1]`):** You can access individual elements of a NumPy array using square brackets and the index. In this example, we retrieve the second element of the array 'a'.\n",
    "\n",
    "- **First row of a 2D array (`array2[0]`):** For 2D arrays, you can use indexing to access rows or columns. Here, we extract the first row of 'array2'.\n",
    "\n",
    "- **Conditional indexing:** You can use boolean indexing to filter elements based on a condition. For instance, `a[a > 2]` selects elements greater than 2 in 'a'.\n",
    "\n",
    "These indexing techniques are powerful tools for data manipulation and analysis using NumPy.\n"
   ]
  },
  {
   "cell_type": "code",
   "execution_count": 55,
   "id": "03b2ab09-101d-46e5-934d-abf6cfebed6b",
   "metadata": {
    "tags": []
   },
   "outputs": [
    {
     "name": "stdout",
     "output_type": "stream",
     "text": [
      "Second element of 'a': 2\n",
      "First row of 'array2': [1 2]\n",
      "Elements greater than 2 in 'a': [3]\n"
     ]
    }
   ],
   "source": [
    "# Indexing with NumPy Arrays\n",
    "# NumPy provides versatile indexing capabilities for arrays.\n",
    "\n",
    "# Second element of 'a'\n",
    "second_element = a[1]\n",
    "print(f\"Second element of 'a': {second_element}\")\n",
    "\n",
    "# First row of a 2D array\n",
    "first_row = array2[0]\n",
    "print(f\"First row of 'array2': {first_row}\")\n",
    "\n",
    "# Conditional indexing\n",
    "# You can use boolean indexing to filter elements based on a condition.\n",
    "\n",
    "# Elements greater than 2 in 'a'\n",
    "greater_than_2 = a[a > 2]\n",
    "print(f\"Elements greater than 2 in 'a': {greater_than_2}\")"
   ]
  },
  {
   "cell_type": "markdown",
   "id": "e84173b5-366c-486e-b311-bbb5852aa6a7",
   "metadata": {},
   "source": [
    "## Slicing\n"
   ]
  },
  {
   "cell_type": "markdown",
   "id": "e37294a4-0e38-4336-b89d-4795bcdba0e1",
   "metadata": {},
   "source": [
    "**Slicing with NumPy Arrays**\n",
    "\n",
    "NumPy offers powerful slicing capabilities for arrays, allowing you to extract specific subsets of data efficiently. Here are some common slicing techniques:\n",
    "\n",
    "- **Elements from index 1 to 2 (exclusive) (`a[1:3]`):** You can use slicing to extract a contiguous subarray from an array. In this example, we obtain elements from index 1 (inclusive) to 3 (exclusive) in 'a'.\n",
    "\n",
    "- **First two rows and two columns of a 2D array (`array2[:2, :2]`):** For 2D arrays, you can slice both rows and columns simultaneously. Here, we extract the first two rows and the first two columns of 'array2'.\n",
    "\n",
    "- **Slicing with step (`a[::2]`):** You can specify a step value to skip elements while slicing. In this case, we retrieve every second element from 'a'.\n",
    "\n",
    "- **Reverse slicing (`a[::-1]`):** By using a negative step, you can reverse the order of elements in an array. In this example, we reverse the order of elements in 'a'.\n",
    "\n",
    "These slicing techniques offer flexibility and efficiency when working with NumPy arrays, making it easier to manipulate and analyze data.\n"
   ]
  },
  {
   "cell_type": "code",
   "execution_count": 62,
   "id": "0ad12fdc-a1ec-4f36-84d0-a8f241b1abf2",
   "metadata": {
    "tags": []
   },
   "outputs": [
    {
     "name": "stdout",
     "output_type": "stream",
     "text": [
      "Slicing Examples:\n",
      "\n",
      "Slice 1 (a[1:3]): [2 3]\n",
      "\n",
      "Slice 2 (array2[:2, :2]):\n",
      "[[1]\n",
      " [3]\n",
      " [5]]\n",
      "\n",
      "Slice 3 (a[::2]): [1 3]\n",
      "\n",
      "Slice 4 (a[::-1]): [3 2 1]\n"
     ]
    }
   ],
   "source": [
    "# Slicing examples\n",
    "print(\"Slicing Examples:\")\n",
    "\n",
    "# Elements from index 1 to 2 (exclusive)\n",
    "slice1 = a[1:3]\n",
    "print(\"\\nSlice 1 (a[1:3]):\", slice1)\n",
    "\n",
    "# First two rows and two columns of a 2D array\n",
    "slice2 = array2[:3, :1]\n",
    "print(\"\\nSlice 2 (array2[:2, :2]):\")\n",
    "print(slice2)\n",
    "\n",
    "# Slicing with step (every second element)\n",
    "slice3 = a[::2]\n",
    "print(\"\\nSlice 3 (a[::2]):\", slice3)\n",
    "\n",
    "# Reverse slicing (reversing the order of elements)\n",
    "slice4 = a[::-1]\n",
    "print(\"\\nSlice 4 (a[::-1]):\", slice4)"
   ]
  },
  {
   "cell_type": "markdown",
   "id": "ef36aedc-4bf2-47a5-836c-f80e63ac1f22",
   "metadata": {},
   "source": [
    "# Reshaping and Combining Arrays\n"
   ]
  },
  {
   "cell_type": "markdown",
   "id": "acf199ab-efc2-4206-8019-86926c2d602c",
   "metadata": {},
   "source": [
    "## Reshaping\n"
   ]
  },
  {
   "cell_type": "markdown",
   "id": "82887072-8cdf-4f46-bf58-ee20dec8c8e6",
   "metadata": {},
   "source": [
    ">In this section, we explore various reshaping operations using NumPy.\n",
    ">\n",
    ">**Reshaping a 1D array to 2D (3 rows, 1 column)**: We start by reshaping a 1D array 'a' into a 2D array with 3 rows and 1 column. This is a common operation when you want to convert a 1D array into a vertical column vector.\n",
    ">\n",
    ">**Flattening a 2D array to 1D**: Here, we flatten a 2D array 'array2' into a 1D array. Flattening is useful when you want to convert a multi-dimensional array into a 1D representation.\n",
    ">\n",
    ">**Reshaping a 1D array to 2D (2 rows, 2 columns)**: In this example, we reshape a 1D array 'c' into a 2D array with 2 rows and 2 columns. This operation transforms the 1D data into a matrix-like structure.\n",
    ">\n",
    ">**Reshaping a 1D array to a 3D array (2x2x1)**: Finally, we reshape 'c' into a 3D array with dimensions 2x2x1. This demonstrates how you can change the dimensions of an array to match your data representation needs."
   ]
  },
  {
   "cell_type": "code",
   "execution_count": 66,
   "id": "3c4d2991-4090-4906-a3b7-8f0d08cd7396",
   "metadata": {
    "tags": []
   },
   "outputs": [
    {
     "name": "stdout",
     "output_type": "stream",
     "text": [
      "Reshaping Examples:\n",
      "\n",
      "Reshaped 1 (a.reshape(3, 1)):\n",
      "'a' is: [1 2 3]\n",
      "[[1]\n",
      " [2]\n",
      " [3]]\n",
      "\n",
      "Flattened (array2.ravel()): [1 2 3 4 5 6]\n",
      "'array2' is: [[1 2]\n",
      " [3 4]\n",
      " [5 6]]\n",
      "\n",
      "Reshaped 2 (c.reshape(2, 2)):\n",
      "[[1 2]\n",
      " [3 4]]\n",
      "\n",
      "Reshaped 3 (c.reshape(2, 2, 1)):\n",
      "[[[1]\n",
      "  [2]]\n",
      "\n",
      " [[3]\n",
      "  [4]]]\n"
     ]
    }
   ],
   "source": [
    "# Reshaping examples\n",
    "print(\"Reshaping Examples:\")\n",
    "\n",
    "# Reshaping a 1D array to 2D (3 rows, 1 column)\n",
    "reshaped1 = a.reshape(3, 1)\n",
    "print(\"\\nReshaped 1 (a.reshape(3, 1)):\")\n",
    "print(f\"'a' is: {a}\")\n",
    "print(reshaped1)\n",
    "\n",
    "# Flattening a 2D array to 1D\n",
    "\n",
    "flattened = array2.ravel()\n",
    "print(\"\\nFlattened (array2.ravel()):\", flattened)\n",
    "print(f\"'array2' is: {array2}\")\n",
    "\n",
    "# Reshaping a 1D array to 2D (2 rows, 2 columns)\n",
    "\n",
    "c = np.array([1,2,3,4])\n",
    "\n",
    "reshaped2 = c.reshape(2, 2)\n",
    "print(\"\\nReshaped 2 (c.reshape(2, 2)):\")\n",
    "print(reshaped2)\n",
    "\n",
    "# Reshaping a 1D array to a 3D array (2x2x1)\n",
    "reshaped3 = c.reshape(2, 2, 1)\n",
    "print(\"\\nReshaped 3 (c.reshape(2, 2, 1)):\")\n",
    "print(reshaped3)"
   ]
  },
  {
   "cell_type": "markdown",
   "id": "83f7ef94-1d1a-49de-b0ea-91fce3e5fbf5",
   "metadata": {},
   "source": [
    "## Combining Arrays\n"
   ]
  },
  {
   "cell_type": "markdown",
   "id": "3e7bbdee-e14d-4d1e-8891-a0e9d741fb36",
   "metadata": {},
   "source": [
    "> **Stacking Arrays Examples**\n",
    ">\n",
    "> In NumPy, you can stack arrays both vertically and horizontally to combine them into larger arrays. Here are some examples of stacking arrays and their use cases:\n",
    ">\n",
    "> - **Vertically Stacked 1 (np.vstack((a, b))):** In this example, arrays 'a' and 'b' are stacked vertically using `np.vstack`. This operation concatenates the arrays along the rows, effectively stacking 'b' below 'a'. It's useful when you have arrays with the same number of columns and want to combine them vertically.\n",
    ">\n",
    "> - **Vertically Stacked 2 (np.vstack((a, c))):** Here, 'a' and 'c' are stacked vertically using `np.vstack`. However, 'c' has a different shape compared to 'a'. Stacking arrays vertically with different shapes will raise a `ValueError` because the number of columns must match.\n",
    ">\n",
    "> - **Horizontally Stacked 1 (np.hstack((a, b))):** This example demonstrates horizontal stacking of 'a' and 'b' using `np.hstack`. The arrays are concatenated along the columns, with 'b' added to the right of 'a'. It's useful when you have arrays with the same number of rows and want to combine them horizontally.\n",
    ">\n",
    "> - **Horizontally Stacked 2 (np.hstack((a, d))):** In this case, 'a' and 'd' are stacked horizontally using `np.hstack`. Similar to the vertical stacking example, stacking arrays horizontally with different shapes will raise a `ValueError`.\n",
    ">\n",
    "> Stacking arrays is a valuable operation when you need to combine data from different sources or reshape your data for further analysis or processing.\n"
   ]
  },
  {
   "cell_type": "code",
   "execution_count": 67,
   "id": "dd3ce8bc-bf5e-4aae-8623-2b7c5c672ed6",
   "metadata": {
    "tags": []
   },
   "outputs": [
    {
     "name": "stdout",
     "output_type": "stream",
     "text": [
      "Stacking Arrays Examples:\n",
      "\n",
      "Vertically Stacked 1 (np.vstack((a, b))):\n",
      "'a' is: [1 2 3]\n",
      "'b' is: [4 5 6]\n",
      "[[1 2 3]\n",
      " [4 5 6]]\n",
      "\n",
      "Vertically Stacked 2 (np.vstack((a, c))):\n",
      "'a' is: [1 2 3]\n",
      "'c' is: [7 8 9]\n",
      "[[1 2 3]\n",
      " [7 8 9]]\n",
      "\n",
      "Horizontally Stacked 1 (np.hstack((a, b))):\n",
      "'a' is: [1 2 3]\n",
      "'b' is: [4 5 6]\n",
      "[1 2 3 4 5 6]\n",
      "\n",
      "Horizontally Stacked 2 (np.hstack((a, d))):\n",
      "'a' is: [1 2 3]\n",
      "'d' is: [10 11 12]\n",
      "[ 1  2  3 10 11 12]\n"
     ]
    }
   ],
   "source": [
    "# Stacking Arrays Examples\n",
    "print(\"Stacking Arrays Examples:\")\n",
    "\n",
    "# Stacking arrays vertically\n",
    "vstacked1 = np.vstack((a, b))\n",
    "print(\"\\nVertically Stacked 1 (np.vstack((a, b))):\")\n",
    "print(f\"'a' is: {a}\")\n",
    "print(f\"'b' is: {b}\")\n",
    "print(vstacked1)\n",
    "\n",
    "# Stacking arrays vertically with different shapes\n",
    "c = np.array([7, 8, 9])\n",
    "vstacked2 = np.vstack((a, c))\n",
    "print(\"\\nVertically Stacked 2 (np.vstack((a, c))):\")\n",
    "print(f\"'a' is: {a}\")\n",
    "print(f\"'c' is: {c}\")\n",
    "print(vstacked2)\n",
    "\n",
    "# Stacking arrays horizontally\n",
    "hstacked1 = np.hstack((a, b))\n",
    "print(\"\\nHorizontally Stacked 1 (np.hstack((a, b))):\")\n",
    "print(f\"'a' is: {a}\")\n",
    "print(f\"'b' is: {b}\")\n",
    "print(hstacked1)\n",
    "\n",
    "# Stacking arrays horizontally with different shapes\n",
    "d = np.array([10, 11, 12])\n",
    "hstacked2 = np.hstack((a, d))\n",
    "print(\"\\nHorizontally Stacked 2 (np.hstack((a, d))):\")\n",
    "print(f\"'a' is: {a}\")\n",
    "print(f\"'d' is: {d}\")\n",
    "print(hstacked2)"
   ]
  },
  {
   "cell_type": "code",
   "execution_count": null,
   "id": "a6738332-0c0c-4fda-bb5f-795c6e29c317",
   "metadata": {},
   "outputs": [],
   "source": []
  }
 ],
 "metadata": {
  "kernelspec": {
   "display_name": "Python 3 (ipykernel)",
   "language": "python",
   "name": "python3"
  },
  "language_info": {
   "codemirror_mode": {
    "name": "ipython",
    "version": 3
   },
   "file_extension": ".py",
   "mimetype": "text/x-python",
   "name": "python",
   "nbconvert_exporter": "python",
   "pygments_lexer": "ipython3",
   "version": "3.11.5"
  }
 },
 "nbformat": 4,
 "nbformat_minor": 5
}
